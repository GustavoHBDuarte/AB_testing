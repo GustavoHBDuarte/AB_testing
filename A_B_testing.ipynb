{
 "cells": [
  {
   "cell_type": "markdown",
   "id": "7bdd4dd7",
   "metadata": {
    "heading_collapsed": true
   },
   "source": [
    "## AB Testing - evaluating gross revenue"
   ]
  },
  {
   "cell_type": "markdown",
   "id": "b4e9884b",
   "metadata": {
    "heading_collapsed": true,
    "hidden": true
   },
   "source": [
    "### Library imports"
   ]
  },
  {
   "cell_type": "code",
   "execution_count": 1,
   "id": "dc44c448",
   "metadata": {
    "ExecuteTime": {
     "end_time": "2023-02-02T00:46:36.415708Z",
     "start_time": "2023-02-02T00:46:25.424087Z"
    },
    "hidden": true
   },
   "outputs": [],
   "source": [
    "import pandas as pd\n",
    "import numpy as np\n",
    "from statsmodels.stats.power import tt_ind_solve_power\n",
    "\n",
    "from scipy import stats\n",
    "\n",
    "import seaborn as sns"
   ]
  },
  {
   "cell_type": "markdown",
   "id": "9cc624ee",
   "metadata": {
    "heading_collapsed": true,
    "hidden": true
   },
   "source": [
    "### Data check"
   ]
  },
  {
   "cell_type": "code",
   "execution_count": 2,
   "id": "9580e300",
   "metadata": {
    "ExecuteTime": {
     "end_time": "2023-02-02T00:46:37.580085Z",
     "start_time": "2023-02-02T00:46:36.431706Z"
    },
    "hidden": true
   },
   "outputs": [
    {
     "data": {
      "text/html": [
       "<div>\n",
       "<style scoped>\n",
       "    .dataframe tbody tr th:only-of-type {\n",
       "        vertical-align: middle;\n",
       "    }\n",
       "\n",
       "    .dataframe tbody tr th {\n",
       "        vertical-align: top;\n",
       "    }\n",
       "\n",
       "    .dataframe thead th {\n",
       "        text-align: right;\n",
       "    }\n",
       "</style>\n",
       "<table border=\"1\" class=\"dataframe\">\n",
       "  <thead>\n",
       "    <tr style=\"text-align: right;\">\n",
       "      <th></th>\n",
       "      <th>uid</th>\n",
       "      <th>country</th>\n",
       "      <th>gender</th>\n",
       "      <th>spent</th>\n",
       "      <th>purchases</th>\n",
       "      <th>date</th>\n",
       "      <th>group</th>\n",
       "      <th>device</th>\n",
       "    </tr>\n",
       "  </thead>\n",
       "  <tbody>\n",
       "    <tr>\n",
       "      <th>0</th>\n",
       "      <td>11115722</td>\n",
       "      <td>MEX</td>\n",
       "      <td>F</td>\n",
       "      <td>1595</td>\n",
       "      <td>5</td>\n",
       "      <td>2016-03-08</td>\n",
       "      <td>GRP B</td>\n",
       "      <td>I</td>\n",
       "    </tr>\n",
       "    <tr>\n",
       "      <th>1</th>\n",
       "      <td>11122053</td>\n",
       "      <td>USA</td>\n",
       "      <td>M</td>\n",
       "      <td>498</td>\n",
       "      <td>2</td>\n",
       "      <td>2017-07-14</td>\n",
       "      <td>GRP B</td>\n",
       "      <td>I</td>\n",
       "    </tr>\n",
       "    <tr>\n",
       "      <th>2</th>\n",
       "      <td>11128688</td>\n",
       "      <td>USA</td>\n",
       "      <td>F</td>\n",
       "      <td>2394</td>\n",
       "      <td>6</td>\n",
       "      <td>2017-09-17</td>\n",
       "      <td>GRP A</td>\n",
       "      <td>I</td>\n",
       "    </tr>\n",
       "    <tr>\n",
       "      <th>3</th>\n",
       "      <td>11130578</td>\n",
       "      <td>USA</td>\n",
       "      <td>F</td>\n",
       "      <td>1197</td>\n",
       "      <td>3</td>\n",
       "      <td>2017-11-30</td>\n",
       "      <td>GRP A</td>\n",
       "      <td>I</td>\n",
       "    </tr>\n",
       "    <tr>\n",
       "      <th>4</th>\n",
       "      <td>11130759</td>\n",
       "      <td>ESP</td>\n",
       "      <td>M</td>\n",
       "      <td>1297</td>\n",
       "      <td>3</td>\n",
       "      <td>2018-01-10</td>\n",
       "      <td>GRP B</td>\n",
       "      <td>A</td>\n",
       "    </tr>\n",
       "    <tr>\n",
       "      <th>...</th>\n",
       "      <td>...</td>\n",
       "      <td>...</td>\n",
       "      <td>...</td>\n",
       "      <td>...</td>\n",
       "      <td>...</td>\n",
       "      <td>...</td>\n",
       "      <td>...</td>\n",
       "      <td>...</td>\n",
       "    </tr>\n",
       "    <tr>\n",
       "      <th>45878</th>\n",
       "      <td>99994149</td>\n",
       "      <td>DEU</td>\n",
       "      <td>F</td>\n",
       "      <td>1897</td>\n",
       "      <td>3</td>\n",
       "      <td>2017-02-05</td>\n",
       "      <td>GRP B</td>\n",
       "      <td>I</td>\n",
       "    </tr>\n",
       "    <tr>\n",
       "      <th>45879</th>\n",
       "      <td>99995092</td>\n",
       "      <td>USA</td>\n",
       "      <td>F</td>\n",
       "      <td>899</td>\n",
       "      <td>1</td>\n",
       "      <td>2017-08-18</td>\n",
       "      <td>GRP B</td>\n",
       "      <td>A</td>\n",
       "    </tr>\n",
       "    <tr>\n",
       "      <th>45880</th>\n",
       "      <td>99996986</td>\n",
       "      <td>BRA</td>\n",
       "      <td>M</td>\n",
       "      <td>2194</td>\n",
       "      <td>6</td>\n",
       "      <td>2014-12-06</td>\n",
       "      <td>GRP B</td>\n",
       "      <td>A</td>\n",
       "    </tr>\n",
       "    <tr>\n",
       "      <th>45881</th>\n",
       "      <td>99997035</td>\n",
       "      <td>USA</td>\n",
       "      <td>M</td>\n",
       "      <td>2196</td>\n",
       "      <td>4</td>\n",
       "      <td>2017-04-05</td>\n",
       "      <td>GRP A</td>\n",
       "      <td>I</td>\n",
       "    </tr>\n",
       "    <tr>\n",
       "      <th>45882</th>\n",
       "      <td>99999383</td>\n",
       "      <td>GBR</td>\n",
       "      <td>F</td>\n",
       "      <td>899</td>\n",
       "      <td>1</td>\n",
       "      <td>2017-09-04</td>\n",
       "      <td>GRP B</td>\n",
       "      <td>I</td>\n",
       "    </tr>\n",
       "  </tbody>\n",
       "</table>\n",
       "<p>45883 rows × 8 columns</p>\n",
       "</div>"
      ],
      "text/plain": [
       "            uid country gender  spent  purchases        date  group device\n",
       "0      11115722     MEX      F   1595          5  2016-03-08  GRP B      I\n",
       "1      11122053     USA      M    498          2  2017-07-14  GRP B      I\n",
       "2      11128688     USA      F   2394          6  2017-09-17  GRP A      I\n",
       "3      11130578     USA      F   1197          3  2017-11-30  GRP A      I\n",
       "4      11130759     ESP      M   1297          3  2018-01-10  GRP B      A\n",
       "...         ...     ...    ...    ...        ...         ...    ...    ...\n",
       "45878  99994149     DEU      F   1897          3  2017-02-05  GRP B      I\n",
       "45879  99995092     USA      F    899          1  2017-08-18  GRP B      A\n",
       "45880  99996986     BRA      M   2194          6  2014-12-06  GRP B      A\n",
       "45881  99997035     USA      M   2196          4  2017-04-05  GRP A      I\n",
       "45882  99999383     GBR      F    899          1  2017-09-04  GRP B      I\n",
       "\n",
       "[45883 rows x 8 columns]"
      ]
     },
     "execution_count": 2,
     "metadata": {},
     "output_type": "execute_result"
    }
   ],
   "source": [
    "# Loading data\n",
    "\n",
    "df = pd.read_csv('ab_testing.csv')\n",
    "\n",
    "df"
   ]
  },
  {
   "cell_type": "code",
   "execution_count": 3,
   "id": "0bbd9a83",
   "metadata": {
    "ExecuteTime": {
     "end_time": "2023-02-02T00:46:39.005479Z",
     "start_time": "2023-02-02T00:46:38.948880Z"
    },
    "hidden": true
   },
   "outputs": [
    {
     "data": {
      "text/plain": [
       "uid          0\n",
       "country      0\n",
       "gender       0\n",
       "spent        0\n",
       "purchases    0\n",
       "date         0\n",
       "group        0\n",
       "device       0\n",
       "dtype: int64"
      ]
     },
     "execution_count": 3,
     "metadata": {},
     "output_type": "execute_result"
    }
   ],
   "source": [
    "# Checking NA's\n",
    "\n",
    "df.isna().sum()"
   ]
  },
  {
   "cell_type": "code",
   "execution_count": 4,
   "id": "c21ec2bc",
   "metadata": {
    "ExecuteTime": {
     "end_time": "2023-02-02T00:46:39.511141Z",
     "start_time": "2023-02-02T00:46:39.498988Z"
    },
    "hidden": true
   },
   "outputs": [
    {
     "data": {
      "text/plain": [
       "uid           int64\n",
       "country      object\n",
       "gender       object\n",
       "spent         int64\n",
       "purchases     int64\n",
       "date         object\n",
       "group        object\n",
       "device       object\n",
       "dtype: object"
      ]
     },
     "execution_count": 4,
     "metadata": {},
     "output_type": "execute_result"
    }
   ],
   "source": [
    "# Checking data types\n",
    "\n",
    "df.dtypes"
   ]
  },
  {
   "cell_type": "code",
   "execution_count": 5,
   "id": "69ceaa15",
   "metadata": {
    "ExecuteTime": {
     "end_time": "2023-02-02T00:46:39.850303Z",
     "start_time": "2023-02-02T00:46:39.757556Z"
    },
    "hidden": true
   },
   "outputs": [
    {
     "data": {
      "text/plain": [
       "0"
      ]
     },
     "execution_count": 5,
     "metadata": {},
     "output_type": "execute_result"
    }
   ],
   "source": [
    "# Checking duplicated\n",
    "\n",
    "df.duplicated().sum()"
   ]
  },
  {
   "cell_type": "code",
   "execution_count": 6,
   "id": "3aad7876",
   "metadata": {
    "ExecuteTime": {
     "end_time": "2023-02-02T00:46:40.382615Z",
     "start_time": "2023-02-02T00:46:40.360584Z"
    },
    "hidden": true
   },
   "outputs": [],
   "source": [
    "# Seting 'date' column as datetime\n",
    "\n",
    "df['date'] = pd.to_datetime(df['date'])"
   ]
  },
  {
   "cell_type": "code",
   "execution_count": 7,
   "id": "bbf468fd",
   "metadata": {
    "ExecuteTime": {
     "end_time": "2023-02-02T00:46:40.696435Z",
     "start_time": "2023-02-02T00:46:40.647861Z"
    },
    "hidden": true
   },
   "outputs": [
    {
     "data": {
      "text/html": [
       "<div>\n",
       "<style scoped>\n",
       "    .dataframe tbody tr th:only-of-type {\n",
       "        vertical-align: middle;\n",
       "    }\n",
       "\n",
       "    .dataframe tbody tr th {\n",
       "        vertical-align: top;\n",
       "    }\n",
       "\n",
       "    .dataframe thead th {\n",
       "        text-align: right;\n",
       "    }\n",
       "</style>\n",
       "<table border=\"1\" class=\"dataframe\">\n",
       "  <thead>\n",
       "    <tr style=\"text-align: right;\">\n",
       "      <th></th>\n",
       "      <th>group</th>\n",
       "    </tr>\n",
       "    <tr>\n",
       "      <th>uid</th>\n",
       "      <th></th>\n",
       "    </tr>\n",
       "  </thead>\n",
       "  <tbody>\n",
       "    <tr>\n",
       "      <th>11115722</th>\n",
       "      <td>1</td>\n",
       "    </tr>\n",
       "    <tr>\n",
       "      <th>70051633</th>\n",
       "      <td>1</td>\n",
       "    </tr>\n",
       "    <tr>\n",
       "      <th>70013059</th>\n",
       "      <td>1</td>\n",
       "    </tr>\n",
       "    <tr>\n",
       "      <th>70014245</th>\n",
       "      <td>1</td>\n",
       "    </tr>\n",
       "    <tr>\n",
       "      <th>70016073</th>\n",
       "      <td>1</td>\n",
       "    </tr>\n",
       "    <tr>\n",
       "      <th>...</th>\n",
       "      <td>...</td>\n",
       "    </tr>\n",
       "    <tr>\n",
       "      <th>40783010</th>\n",
       "      <td>1</td>\n",
       "    </tr>\n",
       "    <tr>\n",
       "      <th>40783265</th>\n",
       "      <td>1</td>\n",
       "    </tr>\n",
       "    <tr>\n",
       "      <th>40783344</th>\n",
       "      <td>1</td>\n",
       "    </tr>\n",
       "    <tr>\n",
       "      <th>40784302</th>\n",
       "      <td>1</td>\n",
       "    </tr>\n",
       "    <tr>\n",
       "      <th>99999383</th>\n",
       "      <td>1</td>\n",
       "    </tr>\n",
       "  </tbody>\n",
       "</table>\n",
       "<p>45883 rows × 1 columns</p>\n",
       "</div>"
      ],
      "text/plain": [
       "          group\n",
       "uid            \n",
       "11115722      1\n",
       "70051633      1\n",
       "70013059      1\n",
       "70014245      1\n",
       "70016073      1\n",
       "...         ...\n",
       "40783010      1\n",
       "40783265      1\n",
       "40783344      1\n",
       "40784302      1\n",
       "99999383      1\n",
       "\n",
       "[45883 rows x 1 columns]"
      ]
     },
     "execution_count": 7,
     "metadata": {},
     "output_type": "execute_result"
    }
   ],
   "source": [
    "# Checking if the same user id does not belong to more than 1 group\n",
    "\n",
    "df[['uid','group']].groupby('uid').count().sort_values(by='group', ascending=False)"
   ]
  },
  {
   "cell_type": "code",
   "execution_count": 8,
   "id": "b4bb5b9a",
   "metadata": {
    "ExecuteTime": {
     "end_time": "2023-02-02T00:46:41.007922Z",
     "start_time": "2023-02-02T00:46:40.978802Z"
    },
    "hidden": true
   },
   "outputs": [
    {
     "name": "stdout",
     "output_type": "stream",
     "text": [
      "Gender\n",
      "M    23116\n",
      "F    22767\n",
      "Name: gender, dtype: int64\n",
      "M    0.503803\n",
      "F    0.496197\n",
      "Name: gender, dtype: float64\n"
     ]
    }
   ],
   "source": [
    "# Checking gender ================================================\n",
    "\n",
    "\n",
    "print('Gender')\n",
    "\n",
    "print(df['gender'].value_counts())\n",
    "\n",
    "print(df['gender'].value_counts(normalize=True))"
   ]
  },
  {
   "cell_type": "code",
   "execution_count": 9,
   "id": "aaef9cac",
   "metadata": {
    "ExecuteTime": {
     "end_time": "2023-02-02T00:46:41.366119Z",
     "start_time": "2023-02-02T00:46:41.325620Z"
    },
    "hidden": true
   },
   "outputs": [
    {
     "name": "stdout",
     "output_type": "stream",
     "text": [
      "Group A gender proportion:\n",
      "M    0.505802\n",
      "F    0.494198\n",
      "Name: gender, dtype: float64\n",
      "\n",
      "Group B gender proportion:\n",
      "M    0.501792\n",
      "F    0.498208\n",
      "Name: gender, dtype: float64\n"
     ]
    }
   ],
   "source": [
    "# Checking Gender proportion - Group A\n",
    "\n",
    "print('Group A gender proportion:')\n",
    "print(df.loc[df['group']=='GRP A','gender'].value_counts(normalize=True))\n",
    "\n",
    "# Checking Gender proportion - Group B\n",
    "\n",
    "print('\\nGroup B gender proportion:')\n",
    "print(df.loc[df['group']=='GRP B','gender'].value_counts(normalize=True))"
   ]
  },
  {
   "cell_type": "code",
   "execution_count": 10,
   "id": "9a3d85c4",
   "metadata": {
    "ExecuteTime": {
     "end_time": "2023-02-02T00:46:41.888061Z",
     "start_time": "2023-02-02T00:46:41.870376Z"
    },
    "hidden": true,
    "scrolled": true
   },
   "outputs": [
    {
     "name": "stdout",
     "output_type": "stream",
     "text": [
      "Country\n",
      "USA    13998\n",
      "BRA     9009\n",
      "MEX     5528\n",
      "DEU     3696\n",
      "TUR     3537\n",
      "FRA     2842\n",
      "GBR     2809\n",
      "ESP     1934\n",
      "CAN     1513\n",
      "AUS     1017\n",
      "Name: country, dtype: int64\n",
      "USA    0.305080\n",
      "BRA    0.196347\n",
      "MEX    0.120480\n",
      "DEU    0.080553\n",
      "TUR    0.077087\n",
      "FRA    0.061940\n",
      "GBR    0.061221\n",
      "ESP    0.042151\n",
      "CAN    0.032975\n",
      "AUS    0.022165\n",
      "Name: country, dtype: float64\n"
     ]
    }
   ],
   "source": [
    "# Checking country ================================================\n",
    "\n",
    "print('Country')\n",
    "\n",
    "print(df['country'].value_counts())\n",
    "\n",
    "print(df['country'].value_counts(normalize=True))"
   ]
  },
  {
   "cell_type": "code",
   "execution_count": 11,
   "id": "5ac6a0d6",
   "metadata": {
    "ExecuteTime": {
     "end_time": "2023-02-02T00:46:42.888024Z",
     "start_time": "2023-02-02T00:46:42.833501Z"
    },
    "hidden": true
   },
   "outputs": [
    {
     "name": "stdout",
     "output_type": "stream",
     "text": [
      "Group A country proportion:\n",
      "USA    0.301056\n",
      "BRA    0.196358\n",
      "MEX    0.125429\n",
      "DEU    0.082142\n",
      "TUR    0.078013\n",
      "FRA    0.062280\n",
      "GBR    0.060237\n",
      "ESP    0.042157\n",
      "CAN    0.030336\n",
      "AUS    0.021991\n",
      "Name: country, dtype: float64\n",
      "\n",
      "Group B country proportion:\n",
      "USA    0.309128\n",
      "BRA    0.196336\n",
      "MEX    0.115502\n",
      "DEU    0.078954\n",
      "TUR    0.076156\n",
      "GBR    0.062210\n",
      "FRA    0.061598\n",
      "ESP    0.042144\n",
      "CAN    0.035630\n",
      "AUS    0.022340\n",
      "Name: country, dtype: float64\n"
     ]
    }
   ],
   "source": [
    "# Checking Country proportion - Group A\n",
    "\n",
    "print('Group A country proportion:')\n",
    "print(df.loc[df['group']=='GRP A','country'].value_counts(normalize=True))\n",
    "\n",
    "\n",
    "# Checking Country proportion - Group B\n",
    "\n",
    "print('\\nGroup B country proportion:')\n",
    "print(df.loc[df['group']=='GRP B','country'].value_counts(normalize=True))"
   ]
  },
  {
   "cell_type": "markdown",
   "id": "fb46bba4",
   "metadata": {
    "heading_collapsed": true,
    "hidden": true
   },
   "source": [
    "### Calculating sample size"
   ]
  },
  {
   "cell_type": "code",
   "execution_count": 12,
   "id": "2c249885",
   "metadata": {
    "ExecuteTime": {
     "end_time": "2023-02-02T00:46:44.730958Z",
     "start_time": "2023-02-02T00:46:43.774840Z"
    },
    "hidden": true
   },
   "outputs": [
    {
     "name": "stderr",
     "output_type": "stream",
     "text": [
      "/home/gustavo/.pyenv/versions/3.8.0/envs/AB_testing/lib/python3.8/site-packages/scipy/stats/_continuous_distns.py:6832: RuntimeWarning: invalid value encountered in _nct_sf\n",
      "  return np.clip(_boost._nct_sf(x, df, nc), 0, 1)\n",
      "/home/gustavo/.pyenv/versions/3.8.0/envs/AB_testing/lib/python3.8/site-packages/scipy/stats/_continuous_distns.py:6826: RuntimeWarning: invalid value encountered in _nct_cdf\n",
      "  return np.clip(_boost._nct_cdf(x, df, nc), 0, 1)\n"
     ]
    },
    {
     "data": {
      "text/html": [
       "<div>\n",
       "<style scoped>\n",
       "    .dataframe tbody tr th:only-of-type {\n",
       "        vertical-align: middle;\n",
       "    }\n",
       "\n",
       "    .dataframe tbody tr th {\n",
       "        vertical-align: top;\n",
       "    }\n",
       "\n",
       "    .dataframe thead th {\n",
       "        text-align: right;\n",
       "    }\n",
       "</style>\n",
       "<table border=\"1\" class=\"dataframe\">\n",
       "  <thead>\n",
       "    <tr style=\"text-align: right;\">\n",
       "      <th></th>\n",
       "      <th>Country</th>\n",
       "      <th>Minimum sample number</th>\n",
       "      <th>GRP A required</th>\n",
       "      <th>GRP B required</th>\n",
       "      <th>GRP A available</th>\n",
       "      <th>GRP B available</th>\n",
       "      <th>Actual spent</th>\n",
       "      <th>Expected lift</th>\n",
       "      <th>Test possible?</th>\n",
       "    </tr>\n",
       "  </thead>\n",
       "  <tbody>\n",
       "    <tr>\n",
       "      <th>0</th>\n",
       "      <td>MEX</td>\n",
       "      <td>2047</td>\n",
       "      <td>2047</td>\n",
       "      <td>2047</td>\n",
       "      <td>2886</td>\n",
       "      <td>2886</td>\n",
       "      <td>1902.705821</td>\n",
       "      <td>2022.576288</td>\n",
       "      <td>Yes</td>\n",
       "    </tr>\n",
       "    <tr>\n",
       "      <th>1</th>\n",
       "      <td>USA</td>\n",
       "      <td>2078</td>\n",
       "      <td>2078</td>\n",
       "      <td>2078</td>\n",
       "      <td>6927</td>\n",
       "      <td>6927</td>\n",
       "      <td>1888.376065</td>\n",
       "      <td>2007.343757</td>\n",
       "      <td>Yes</td>\n",
       "    </tr>\n",
       "    <tr>\n",
       "      <th>2</th>\n",
       "      <td>ESP</td>\n",
       "      <td>2302</td>\n",
       "      <td>2302</td>\n",
       "      <td>2302</td>\n",
       "      <td>970</td>\n",
       "      <td>970</td>\n",
       "      <td>1794.191753</td>\n",
       "      <td>1907.225833</td>\n",
       "      <td>No</td>\n",
       "    </tr>\n",
       "    <tr>\n",
       "      <th>3</th>\n",
       "      <td>GBR</td>\n",
       "      <td>2236</td>\n",
       "      <td>2236</td>\n",
       "      <td>2236</td>\n",
       "      <td>1386</td>\n",
       "      <td>1386</td>\n",
       "      <td>1820.470418</td>\n",
       "      <td>1935.160055</td>\n",
       "      <td>No</td>\n",
       "    </tr>\n",
       "    <tr>\n",
       "      <th>4</th>\n",
       "      <td>TUR</td>\n",
       "      <td>2070</td>\n",
       "      <td>2070</td>\n",
       "      <td>2070</td>\n",
       "      <td>1795</td>\n",
       "      <td>1795</td>\n",
       "      <td>1892.353203</td>\n",
       "      <td>2011.571455</td>\n",
       "      <td>No</td>\n",
       "    </tr>\n",
       "    <tr>\n",
       "      <th>5</th>\n",
       "      <td>DEU</td>\n",
       "      <td>2212</td>\n",
       "      <td>2212</td>\n",
       "      <td>2212</td>\n",
       "      <td>1890</td>\n",
       "      <td>1890</td>\n",
       "      <td>1830.453439</td>\n",
       "      <td>1945.772006</td>\n",
       "      <td>No</td>\n",
       "    </tr>\n",
       "    <tr>\n",
       "      <th>6</th>\n",
       "      <td>BRA</td>\n",
       "      <td>2053</td>\n",
       "      <td>2053</td>\n",
       "      <td>2053</td>\n",
       "      <td>4518</td>\n",
       "      <td>4518</td>\n",
       "      <td>1899.792165</td>\n",
       "      <td>2019.479071</td>\n",
       "      <td>Yes</td>\n",
       "    </tr>\n",
       "    <tr>\n",
       "      <th>7</th>\n",
       "      <td>FRA</td>\n",
       "      <td>2054</td>\n",
       "      <td>2054</td>\n",
       "      <td>2054</td>\n",
       "      <td>1433</td>\n",
       "      <td>1433</td>\n",
       "      <td>1899.752268</td>\n",
       "      <td>2019.436661</td>\n",
       "      <td>No</td>\n",
       "    </tr>\n",
       "    <tr>\n",
       "      <th>8</th>\n",
       "      <td>AUS</td>\n",
       "      <td>1930</td>\n",
       "      <td>1930</td>\n",
       "      <td>1930</td>\n",
       "      <td>506</td>\n",
       "      <td>506</td>\n",
       "      <td>1959.517787</td>\n",
       "      <td>2082.967407</td>\n",
       "      <td>No</td>\n",
       "    </tr>\n",
       "    <tr>\n",
       "      <th>9</th>\n",
       "      <td>CAN</td>\n",
       "      <td>2205</td>\n",
       "      <td>2205</td>\n",
       "      <td>2205</td>\n",
       "      <td>698</td>\n",
       "      <td>698</td>\n",
       "      <td>1833.154728</td>\n",
       "      <td>1948.643476</td>\n",
       "      <td>No</td>\n",
       "    </tr>\n",
       "  </tbody>\n",
       "</table>\n",
       "</div>"
      ],
      "text/plain": [
       "  Country  Minimum sample number  GRP A required  GRP B required  \\\n",
       "0     MEX                   2047            2047            2047   \n",
       "1     USA                   2078            2078            2078   \n",
       "2     ESP                   2302            2302            2302   \n",
       "3     GBR                   2236            2236            2236   \n",
       "4     TUR                   2070            2070            2070   \n",
       "5     DEU                   2212            2212            2212   \n",
       "6     BRA                   2053            2053            2053   \n",
       "7     FRA                   2054            2054            2054   \n",
       "8     AUS                   1930            1930            1930   \n",
       "9     CAN                   2205            2205            2205   \n",
       "\n",
       "   GRP A available  GRP B available  Actual spent  Expected lift  \\\n",
       "0             2886             2886   1902.705821    2022.576288   \n",
       "1             6927             6927   1888.376065    2007.343757   \n",
       "2              970              970   1794.191753    1907.225833   \n",
       "3             1386             1386   1820.470418    1935.160055   \n",
       "4             1795             1795   1892.353203    2011.571455   \n",
       "5             1890             1890   1830.453439    1945.772006   \n",
       "6             4518             4518   1899.792165    2019.479071   \n",
       "7             1433             1433   1899.752268    2019.436661   \n",
       "8              506              506   1959.517787    2082.967407   \n",
       "9              698              698   1833.154728    1948.643476   \n",
       "\n",
       "  Test possible?  \n",
       "0            Yes  \n",
       "1            Yes  \n",
       "2             No  \n",
       "3             No  \n",
       "4             No  \n",
       "5             No  \n",
       "6            Yes  \n",
       "7             No  \n",
       "8             No  \n",
       "9             No  "
      ]
     },
     "execution_count": 12,
     "metadata": {},
     "output_type": "execute_result"
    }
   ],
   "source": [
    "# nivel de significancia\n",
    "alpha = 0.05\n",
    "\n",
    "# power\n",
    "power = 0.8\n",
    "\n",
    "lift = 1.063\n",
    "\n",
    "country_list = list(df['country'].unique())\n",
    "\n",
    "df_aux = pd.DataFrame({'Country':np.nan,\n",
    "                       'Minimum sample number':np.nan,\n",
    "                       'GRP A required':np.nan,\n",
    "                       'GRP B required':np.nan,\n",
    "                       'GRP A available':np.nan,\n",
    "                       'GRP B available':np.nan,\n",
    "                       'Actual spent': np.nan,\n",
    "                       'Expected lift': np.nan,\n",
    "                       'Test possible?': np.nan}, index=[i for i in range(len(df['country'].unique()))])\n",
    "\n",
    "#df_aux['Country'] = country_list\n",
    "\n",
    "\n",
    "for i, it in zip(country_list, df_aux.index):\n",
    "    \n",
    "    actual_mean_spent = df.loc[(df['country']==i) & (df['group']=='GRP A'), 'spent'].mean()\n",
    "    \n",
    "    expected_mean_spent = actual_mean_spent*lift\n",
    "    \n",
    "    \n",
    "    # effect size\n",
    "    effect_size = (expected_mean_spent - actual_mean_spent) / df.loc[df['group']=='GRP A', 'spent'].std()\n",
    "    \n",
    "    # sample_number\n",
    "    nobs1 = tt_ind_solve_power(effect_size = effect_size, alpha = alpha, power = power)\n",
    "    \n",
    "    # preenchendo o df\n",
    "    df_aux.loc[it, 'Country'] = i\n",
    "    \n",
    "    df_aux.loc[it, 'Minimum sample number'] = nobs1\n",
    "    \n",
    "    df_aux.loc[it, 'GRP A required'] = nobs1\n",
    "    \n",
    "    df_aux.loc[it, 'GRP B required'] = nobs1\n",
    "    \n",
    "    df_aux.loc[it, 'GRP A available'] = ((df['group']=='GRP A') & (df['country']==i)).sum()\n",
    "    \n",
    "    df_aux.loc[it, 'GRP B available'] = ((df['group']=='GRP A') & (df['country']==i)).sum()\n",
    "    \n",
    "    df_aux.loc[it, 'Actual spent'] = actual_mean_spent\n",
    "    \n",
    "    df_aux.loc[it, 'Expected lift'] = expected_mean_spent\n",
    "    \n",
    "    df_aux.loc[it, 'Test possible?'] = ['No' if df_aux.loc[it,'GRP B available'] < df_aux.loc[it,'GRP A required'] else 'Yes'][0]\n",
    "    \n",
    "    \n",
    "df_aux[['Minimum sample number',\n",
    "        'GRP A required',\n",
    "        'GRP B required',\n",
    "        'GRP A available',\n",
    "        'GRP B available']] = np.ceil(df_aux[['Minimum sample number',\n",
    "                                              'GRP A required',\n",
    "                                              'GRP B required',\n",
    "                                              'GRP A available',\n",
    "                                              'GRP B available']]).astype('int')\n",
    "\n",
    "df_aux"
   ]
  },
  {
   "cell_type": "code",
   "execution_count": 13,
   "id": "794be4e0",
   "metadata": {
    "ExecuteTime": {
     "end_time": "2023-02-02T00:46:44.752103Z",
     "start_time": "2023-02-02T00:46:44.740301Z"
    },
    "hidden": true
   },
   "outputs": [
    {
     "data": {
      "text/plain": [
       "['MEX', 'USA', 'BRA']"
      ]
     },
     "execution_count": 13,
     "metadata": {},
     "output_type": "execute_result"
    }
   ],
   "source": [
    "# Criando uma lista contendo os países que possuem o número mínimo de amostras para o teste\n",
    "\n",
    "countries_ab_list = df_aux.loc[df_aux['Test possible?']=='Yes','Country'].to_list()\n",
    "\n",
    "countries_ab_list"
   ]
  },
  {
   "cell_type": "markdown",
   "id": "5f0e7ab4",
   "metadata": {
    "heading_collapsed": true,
    "hidden": true
   },
   "source": [
    "### Checking data distribution"
   ]
  },
  {
   "cell_type": "code",
   "execution_count": 14,
   "id": "b8a2f22f",
   "metadata": {
    "ExecuteTime": {
     "end_time": "2023-02-02T00:46:45.614251Z",
     "start_time": "2023-02-02T00:46:45.562083Z"
    },
    "hidden": true
   },
   "outputs": [
    {
     "data": {
      "text/html": [
       "<div>\n",
       "<style scoped>\n",
       "    .dataframe tbody tr th:only-of-type {\n",
       "        vertical-align: middle;\n",
       "    }\n",
       "\n",
       "    .dataframe tbody tr th {\n",
       "        vertical-align: top;\n",
       "    }\n",
       "\n",
       "    .dataframe thead th {\n",
       "        text-align: right;\n",
       "    }\n",
       "</style>\n",
       "<table border=\"1\" class=\"dataframe\">\n",
       "  <thead>\n",
       "    <tr style=\"text-align: right;\">\n",
       "      <th></th>\n",
       "      <th>uid</th>\n",
       "      <th>country</th>\n",
       "      <th>gender</th>\n",
       "      <th>spent</th>\n",
       "      <th>purchases</th>\n",
       "      <th>date</th>\n",
       "      <th>group</th>\n",
       "      <th>device</th>\n",
       "    </tr>\n",
       "  </thead>\n",
       "  <tbody>\n",
       "    <tr>\n",
       "      <th>0</th>\n",
       "      <td>11115722</td>\n",
       "      <td>MEX</td>\n",
       "      <td>F</td>\n",
       "      <td>1595</td>\n",
       "      <td>5</td>\n",
       "      <td>2016-03-08</td>\n",
       "      <td>GRP B</td>\n",
       "      <td>I</td>\n",
       "    </tr>\n",
       "    <tr>\n",
       "      <th>1</th>\n",
       "      <td>11122053</td>\n",
       "      <td>USA</td>\n",
       "      <td>M</td>\n",
       "      <td>498</td>\n",
       "      <td>2</td>\n",
       "      <td>2017-07-14</td>\n",
       "      <td>GRP B</td>\n",
       "      <td>I</td>\n",
       "    </tr>\n",
       "    <tr>\n",
       "      <th>2</th>\n",
       "      <td>11128688</td>\n",
       "      <td>USA</td>\n",
       "      <td>F</td>\n",
       "      <td>2394</td>\n",
       "      <td>6</td>\n",
       "      <td>2017-09-17</td>\n",
       "      <td>GRP A</td>\n",
       "      <td>I</td>\n",
       "    </tr>\n",
       "    <tr>\n",
       "      <th>3</th>\n",
       "      <td>11130578</td>\n",
       "      <td>USA</td>\n",
       "      <td>F</td>\n",
       "      <td>1197</td>\n",
       "      <td>3</td>\n",
       "      <td>2017-11-30</td>\n",
       "      <td>GRP A</td>\n",
       "      <td>I</td>\n",
       "    </tr>\n",
       "    <tr>\n",
       "      <th>5</th>\n",
       "      <td>11131070</td>\n",
       "      <td>USA</td>\n",
       "      <td>M</td>\n",
       "      <td>1796</td>\n",
       "      <td>4</td>\n",
       "      <td>2016-08-08</td>\n",
       "      <td>GRP B</td>\n",
       "      <td>I</td>\n",
       "    </tr>\n",
       "    <tr>\n",
       "      <th>...</th>\n",
       "      <td>...</td>\n",
       "      <td>...</td>\n",
       "      <td>...</td>\n",
       "      <td>...</td>\n",
       "      <td>...</td>\n",
       "      <td>...</td>\n",
       "      <td>...</td>\n",
       "      <td>...</td>\n",
       "    </tr>\n",
       "    <tr>\n",
       "      <th>45874</th>\n",
       "      <td>99986982</td>\n",
       "      <td>USA</td>\n",
       "      <td>F</td>\n",
       "      <td>3394</td>\n",
       "      <td>6</td>\n",
       "      <td>2017-05-03</td>\n",
       "      <td>GRP B</td>\n",
       "      <td>I</td>\n",
       "    </tr>\n",
       "    <tr>\n",
       "      <th>45877</th>\n",
       "      <td>99991883</td>\n",
       "      <td>BRA</td>\n",
       "      <td>M</td>\n",
       "      <td>2995</td>\n",
       "      <td>5</td>\n",
       "      <td>2017-06-22</td>\n",
       "      <td>GRP B</td>\n",
       "      <td>A</td>\n",
       "    </tr>\n",
       "    <tr>\n",
       "      <th>45879</th>\n",
       "      <td>99995092</td>\n",
       "      <td>USA</td>\n",
       "      <td>F</td>\n",
       "      <td>899</td>\n",
       "      <td>1</td>\n",
       "      <td>2017-08-18</td>\n",
       "      <td>GRP B</td>\n",
       "      <td>A</td>\n",
       "    </tr>\n",
       "    <tr>\n",
       "      <th>45880</th>\n",
       "      <td>99996986</td>\n",
       "      <td>BRA</td>\n",
       "      <td>M</td>\n",
       "      <td>2194</td>\n",
       "      <td>6</td>\n",
       "      <td>2014-12-06</td>\n",
       "      <td>GRP B</td>\n",
       "      <td>A</td>\n",
       "    </tr>\n",
       "    <tr>\n",
       "      <th>45881</th>\n",
       "      <td>99997035</td>\n",
       "      <td>USA</td>\n",
       "      <td>M</td>\n",
       "      <td>2196</td>\n",
       "      <td>4</td>\n",
       "      <td>2017-04-05</td>\n",
       "      <td>GRP A</td>\n",
       "      <td>I</td>\n",
       "    </tr>\n",
       "  </tbody>\n",
       "</table>\n",
       "<p>28535 rows × 8 columns</p>\n",
       "</div>"
      ],
      "text/plain": [
       "            uid country gender  spent  purchases       date  group device\n",
       "0      11115722     MEX      F   1595          5 2016-03-08  GRP B      I\n",
       "1      11122053     USA      M    498          2 2017-07-14  GRP B      I\n",
       "2      11128688     USA      F   2394          6 2017-09-17  GRP A      I\n",
       "3      11130578     USA      F   1197          3 2017-11-30  GRP A      I\n",
       "5      11131070     USA      M   1796          4 2016-08-08  GRP B      I\n",
       "...         ...     ...    ...    ...        ...        ...    ...    ...\n",
       "45874  99986982     USA      F   3394          6 2017-05-03  GRP B      I\n",
       "45877  99991883     BRA      M   2995          5 2017-06-22  GRP B      A\n",
       "45879  99995092     USA      F    899          1 2017-08-18  GRP B      A\n",
       "45880  99996986     BRA      M   2194          6 2014-12-06  GRP B      A\n",
       "45881  99997035     USA      M   2196          4 2017-04-05  GRP A      I\n",
       "\n",
       "[28535 rows x 8 columns]"
      ]
     },
     "execution_count": 14,
     "metadata": {},
     "output_type": "execute_result"
    }
   ],
   "source": [
    "# Filtrando o dataframe para somente países onde é possível fazer o teste AB \n",
    "\n",
    "df_ab = df[df['country'].isin(countries_ab_list)]\n",
    "\n",
    "df_ab"
   ]
  },
  {
   "cell_type": "code",
   "execution_count": 15,
   "id": "8e61e364",
   "metadata": {
    "ExecuteTime": {
     "end_time": "2023-02-02T00:46:46.280256Z",
     "start_time": "2023-02-02T00:46:46.122552Z"
    },
    "hidden": true
   },
   "outputs": [],
   "source": [
    "df_GRP_A_sampled = pd.DataFrame(columns=df_ab.columns)\n",
    "\n",
    "df_GRP_B_sampled = pd.DataFrame(columns=df_ab.columns)\n",
    "\n",
    "# Separando grupo A e grupo B\n",
    "\n",
    "df_GRP_A = df_ab[df_ab['group']=='GRP A']\n",
    "\n",
    "df_GRP_B = df_ab[df_ab['group']=='GRP B']"
   ]
  },
  {
   "cell_type": "code",
   "execution_count": 16,
   "id": "7b8eb489",
   "metadata": {
    "ExecuteTime": {
     "end_time": "2023-02-02T00:46:46.895250Z",
     "start_time": "2023-02-02T00:46:46.785172Z"
    },
    "hidden": true
   },
   "outputs": [],
   "source": [
    "# Fazendo uma amostragem dos dados por país baseado no cálculo de tamanho amostral\n",
    "\n",
    "for i in countries_ab_list:\n",
    "    \n",
    "    n_sampled_GRP_A = df_aux.loc[df_aux['Country']==i,'GRP A required'].values[0]\n",
    "    \n",
    "    df_sampled_A = df_ab[(df_ab['group']=='GRP A') & (df_ab['country']==i)].sample(n=n_sampled_GRP_A, random_state=42)\n",
    "    \n",
    "    df_GRP_A_sampled = pd.concat([df_GRP_A_sampled, df_sampled_A])\n",
    "    \n",
    "    \n",
    "    n_sampled_GRP_B = df_aux.loc[df_aux['Country']==i,'GRP B required'].values[0]\n",
    "    \n",
    "    df_sampled_B = df_ab[(df_ab['group']=='GRP B') & (df_ab['country']==i)].sample(n=n_sampled_GRP_B, random_state=42)\n",
    "    \n",
    "    df_GRP_B_sampled = pd.concat([df_GRP_B_sampled, df_sampled_B])"
   ]
  },
  {
   "cell_type": "code",
   "execution_count": 17,
   "id": "7146d350",
   "metadata": {
    "ExecuteTime": {
     "end_time": "2023-02-02T00:46:51.032179Z",
     "start_time": "2023-02-02T00:46:51.021333Z"
    },
    "hidden": true
   },
   "outputs": [],
   "source": [
    "# Unindo de volta os df grupo A e B amostrados\n",
    "\n",
    "df_AB = pd.concat([df_GRP_A_sampled, df_GRP_B_sampled])"
   ]
  },
  {
   "cell_type": "code",
   "execution_count": 18,
   "id": "09194cf2",
   "metadata": {
    "ExecuteTime": {
     "end_time": "2023-02-02T00:46:52.498857Z",
     "start_time": "2023-02-02T00:46:51.825270Z"
    },
    "hidden": true
   },
   "outputs": [
    {
     "data": {
      "text/html": [
       "<div>\n",
       "<style scoped>\n",
       "    .dataframe tbody tr th:only-of-type {\n",
       "        vertical-align: middle;\n",
       "    }\n",
       "\n",
       "    .dataframe tbody tr th {\n",
       "        vertical-align: top;\n",
       "    }\n",
       "\n",
       "    .dataframe thead th {\n",
       "        text-align: right;\n",
       "    }\n",
       "</style>\n",
       "<table border=\"1\" class=\"dataframe\">\n",
       "  <thead>\n",
       "    <tr style=\"text-align: right;\">\n",
       "      <th></th>\n",
       "      <th>uid</th>\n",
       "      <th>country</th>\n",
       "      <th>gender</th>\n",
       "      <th>spent</th>\n",
       "      <th>purchases</th>\n",
       "      <th>date</th>\n",
       "      <th>group</th>\n",
       "      <th>device</th>\n",
       "    </tr>\n",
       "  </thead>\n",
       "  <tbody>\n",
       "    <tr>\n",
       "      <th>7679</th>\n",
       "      <td>25981952</td>\n",
       "      <td>MEX</td>\n",
       "      <td>F</td>\n",
       "      <td>1497</td>\n",
       "      <td>3</td>\n",
       "      <td>2016-12-13</td>\n",
       "      <td>GRP A</td>\n",
       "      <td>I</td>\n",
       "    </tr>\n",
       "    <tr>\n",
       "      <th>39246</th>\n",
       "      <td>86959496</td>\n",
       "      <td>MEX</td>\n",
       "      <td>F</td>\n",
       "      <td>2494</td>\n",
       "      <td>6</td>\n",
       "      <td>2018-01-05</td>\n",
       "      <td>GRP A</td>\n",
       "      <td>I</td>\n",
       "    </tr>\n",
       "    <tr>\n",
       "      <th>38251</th>\n",
       "      <td>84978006</td>\n",
       "      <td>MEX</td>\n",
       "      <td>M</td>\n",
       "      <td>497</td>\n",
       "      <td>3</td>\n",
       "      <td>2016-07-27</td>\n",
       "      <td>GRP A</td>\n",
       "      <td>I</td>\n",
       "    </tr>\n",
       "    <tr>\n",
       "      <th>26569</th>\n",
       "      <td>62254922</td>\n",
       "      <td>MEX</td>\n",
       "      <td>M</td>\n",
       "      <td>299</td>\n",
       "      <td>1</td>\n",
       "      <td>2016-04-15</td>\n",
       "      <td>GRP A</td>\n",
       "      <td>A</td>\n",
       "    </tr>\n",
       "    <tr>\n",
       "      <th>18054</th>\n",
       "      <td>46080590</td>\n",
       "      <td>MEX</td>\n",
       "      <td>F</td>\n",
       "      <td>2096</td>\n",
       "      <td>4</td>\n",
       "      <td>2016-11-25</td>\n",
       "      <td>GRP A</td>\n",
       "      <td>I</td>\n",
       "    </tr>\n",
       "    <tr>\n",
       "      <th>...</th>\n",
       "      <td>...</td>\n",
       "      <td>...</td>\n",
       "      <td>...</td>\n",
       "      <td>...</td>\n",
       "      <td>...</td>\n",
       "      <td>...</td>\n",
       "      <td>...</td>\n",
       "      <td>...</td>\n",
       "    </tr>\n",
       "    <tr>\n",
       "      <th>38392</th>\n",
       "      <td>85241496</td>\n",
       "      <td>BRA</td>\n",
       "      <td>F</td>\n",
       "      <td>599</td>\n",
       "      <td>1</td>\n",
       "      <td>2016-10-01</td>\n",
       "      <td>GRP B</td>\n",
       "      <td>A</td>\n",
       "    </tr>\n",
       "    <tr>\n",
       "      <th>25471</th>\n",
       "      <td>60143852</td>\n",
       "      <td>BRA</td>\n",
       "      <td>F</td>\n",
       "      <td>1797</td>\n",
       "      <td>3</td>\n",
       "      <td>2016-07-15</td>\n",
       "      <td>GRP B</td>\n",
       "      <td>A</td>\n",
       "    </tr>\n",
       "    <tr>\n",
       "      <th>43643</th>\n",
       "      <td>95647935</td>\n",
       "      <td>BRA</td>\n",
       "      <td>F</td>\n",
       "      <td>1596</td>\n",
       "      <td>4</td>\n",
       "      <td>2016-04-20</td>\n",
       "      <td>GRP B</td>\n",
       "      <td>A</td>\n",
       "    </tr>\n",
       "    <tr>\n",
       "      <th>16113</th>\n",
       "      <td>42331972</td>\n",
       "      <td>BRA</td>\n",
       "      <td>F</td>\n",
       "      <td>3293</td>\n",
       "      <td>7</td>\n",
       "      <td>2018-01-07</td>\n",
       "      <td>GRP B</td>\n",
       "      <td>A</td>\n",
       "    </tr>\n",
       "    <tr>\n",
       "      <th>36890</th>\n",
       "      <td>82367555</td>\n",
       "      <td>BRA</td>\n",
       "      <td>F</td>\n",
       "      <td>2892</td>\n",
       "      <td>8</td>\n",
       "      <td>2016-07-29</td>\n",
       "      <td>GRP B</td>\n",
       "      <td>I</td>\n",
       "    </tr>\n",
       "  </tbody>\n",
       "</table>\n",
       "<p>12356 rows × 8 columns</p>\n",
       "</div>"
      ],
      "text/plain": [
       "            uid country gender spent purchases       date  group device\n",
       "7679   25981952     MEX      F  1497         3 2016-12-13  GRP A      I\n",
       "39246  86959496     MEX      F  2494         6 2018-01-05  GRP A      I\n",
       "38251  84978006     MEX      M   497         3 2016-07-27  GRP A      I\n",
       "26569  62254922     MEX      M   299         1 2016-04-15  GRP A      A\n",
       "18054  46080590     MEX      F  2096         4 2016-11-25  GRP A      I\n",
       "...         ...     ...    ...   ...       ...        ...    ...    ...\n",
       "38392  85241496     BRA      F   599         1 2016-10-01  GRP B      A\n",
       "25471  60143852     BRA      F  1797         3 2016-07-15  GRP B      A\n",
       "43643  95647935     BRA      F  1596         4 2016-04-20  GRP B      A\n",
       "16113  42331972     BRA      F  3293         7 2018-01-07  GRP B      A\n",
       "36890  82367555     BRA      F  2892         8 2016-07-29  GRP B      I\n",
       "\n",
       "[12356 rows x 8 columns]"
      ]
     },
     "execution_count": 18,
     "metadata": {},
     "output_type": "execute_result"
    }
   ],
   "source": [
    "df_AB"
   ]
  },
  {
   "cell_type": "code",
   "execution_count": 34,
   "id": "66db6e94",
   "metadata": {
    "ExecuteTime": {
     "end_time": "2023-02-02T01:10:37.974844Z",
     "start_time": "2023-02-02T01:10:37.959427Z"
    },
    "hidden": true
   },
   "outputs": [],
   "source": [
    "# Mudando o formato de dados das colunas\n",
    "\n",
    "df_AB['uid'] = df_AB['uid'].astype('int')\n",
    "df_AB['spent'] = df_AB['spent'].astype('float')"
   ]
  },
  {
   "cell_type": "code",
   "execution_count": 19,
   "id": "a1c445cf",
   "metadata": {
    "ExecuteTime": {
     "end_time": "2023-02-02T00:46:53.212527Z",
     "start_time": "2023-02-02T00:46:53.186073Z"
    },
    "hidden": true
   },
   "outputs": [
    {
     "data": {
      "text/html": [
       "<div>\n",
       "<style scoped>\n",
       "    .dataframe tbody tr th:only-of-type {\n",
       "        vertical-align: middle;\n",
       "    }\n",
       "\n",
       "    .dataframe tbody tr th {\n",
       "        vertical-align: top;\n",
       "    }\n",
       "\n",
       "    .dataframe thead th {\n",
       "        text-align: right;\n",
       "    }\n",
       "</style>\n",
       "<table border=\"1\" class=\"dataframe\">\n",
       "  <thead>\n",
       "    <tr style=\"text-align: right;\">\n",
       "      <th></th>\n",
       "      <th>country</th>\n",
       "      <th>Shapiro p-value</th>\n",
       "      <th>Normal distribution?</th>\n",
       "      <th>Variance ratio</th>\n",
       "      <th>Equal Variances?</th>\n",
       "    </tr>\n",
       "  </thead>\n",
       "  <tbody>\n",
       "    <tr>\n",
       "      <th>0</th>\n",
       "      <td>MEX</td>\n",
       "      <td>NaN</td>\n",
       "      <td>NaN</td>\n",
       "      <td>NaN</td>\n",
       "      <td>NaN</td>\n",
       "    </tr>\n",
       "    <tr>\n",
       "      <th>1</th>\n",
       "      <td>USA</td>\n",
       "      <td>NaN</td>\n",
       "      <td>NaN</td>\n",
       "      <td>NaN</td>\n",
       "      <td>NaN</td>\n",
       "    </tr>\n",
       "    <tr>\n",
       "      <th>2</th>\n",
       "      <td>BRA</td>\n",
       "      <td>NaN</td>\n",
       "      <td>NaN</td>\n",
       "      <td>NaN</td>\n",
       "      <td>NaN</td>\n",
       "    </tr>\n",
       "  </tbody>\n",
       "</table>\n",
       "</div>"
      ],
      "text/plain": [
       "  country Shapiro p-value Normal distribution? Variance ratio Equal Variances?\n",
       "0     MEX             NaN                  NaN            NaN              NaN\n",
       "1     USA             NaN                  NaN            NaN              NaN\n",
       "2     BRA             NaN                  NaN            NaN              NaN"
      ]
     },
     "execution_count": 19,
     "metadata": {},
     "output_type": "execute_result"
    }
   ],
   "source": [
    "# Definindo um dataframe que conterá as informações do teste de normalidade e variância dos dados\n",
    "\n",
    "df_summary = pd.DataFrame(columns=['country','Shapiro p-value', 'Normal distribution?','Variance ratio','Equal Variances?'])\n",
    "\n",
    "df_summary['country'] = df_AB['country'].unique()\n",
    "\n",
    "df_summary"
   ]
  },
  {
   "cell_type": "code",
   "execution_count": 20,
   "id": "edad41ed",
   "metadata": {
    "ExecuteTime": {
     "end_time": "2023-02-02T00:46:55.846938Z",
     "start_time": "2023-02-02T00:46:55.702732Z"
    },
    "hidden": true
   },
   "outputs": [],
   "source": [
    "# Fazer o teste de Shapiro e avaliação de variâncias p/ país\n",
    "\n",
    "for i in countries_ab_list:\n",
    "    \n",
    "    df_summary.loc[df_summary['country']==i, 'Shapiro p-value'] = stats.shapiro(df_AB.loc[df_AB['country']==i,'spent']).pvalue\n",
    "    \n",
    "    \n",
    "    variance_list = [np.var(df_AB.loc[(df_AB['group']=='GRP A') & (df_AB['country']==i),'spent']), np.var(df_AB.loc[(df_AB['group']=='GRP B') & (df_AB['country']==i),'spent'])]\n",
    "    \n",
    "    df_summary.loc[df_summary['country']==i, 'Variance ratio'] = np.max(variance_list) / np.min(variance_list)\n",
    "\n",
    "    \n",
    "    \n",
    "df_summary['Normal distribution?'] = ['No' if i<0.05 else 'Yes' for i in df_summary['Shapiro p-value']]\n",
    "\n",
    "df_summary['Equal Variances?'] = ['No' if i>4 else 'Yes' for i in df_summary['Variance ratio']]"
   ]
  },
  {
   "cell_type": "code",
   "execution_count": 21,
   "id": "b8aeb040",
   "metadata": {
    "ExecuteTime": {
     "end_time": "2023-02-02T00:46:57.036771Z",
     "start_time": "2023-02-02T00:46:57.015385Z"
    },
    "hidden": true
   },
   "outputs": [
    {
     "data": {
      "text/html": [
       "<div>\n",
       "<style scoped>\n",
       "    .dataframe tbody tr th:only-of-type {\n",
       "        vertical-align: middle;\n",
       "    }\n",
       "\n",
       "    .dataframe tbody tr th {\n",
       "        vertical-align: top;\n",
       "    }\n",
       "\n",
       "    .dataframe thead th {\n",
       "        text-align: right;\n",
       "    }\n",
       "</style>\n",
       "<table border=\"1\" class=\"dataframe\">\n",
       "  <thead>\n",
       "    <tr style=\"text-align: right;\">\n",
       "      <th></th>\n",
       "      <th>country</th>\n",
       "      <th>Shapiro p-value</th>\n",
       "      <th>Normal distribution?</th>\n",
       "      <th>Variance ratio</th>\n",
       "      <th>Equal Variances?</th>\n",
       "    </tr>\n",
       "  </thead>\n",
       "  <tbody>\n",
       "    <tr>\n",
       "      <th>0</th>\n",
       "      <td>MEX</td>\n",
       "      <td>0.0</td>\n",
       "      <td>No</td>\n",
       "      <td>1.049738</td>\n",
       "      <td>Yes</td>\n",
       "    </tr>\n",
       "    <tr>\n",
       "      <th>1</th>\n",
       "      <td>USA</td>\n",
       "      <td>0.0</td>\n",
       "      <td>No</td>\n",
       "      <td>1.081985</td>\n",
       "      <td>Yes</td>\n",
       "    </tr>\n",
       "    <tr>\n",
       "      <th>2</th>\n",
       "      <td>BRA</td>\n",
       "      <td>0.0</td>\n",
       "      <td>No</td>\n",
       "      <td>1.061109</td>\n",
       "      <td>Yes</td>\n",
       "    </tr>\n",
       "  </tbody>\n",
       "</table>\n",
       "</div>"
      ],
      "text/plain": [
       "  country Shapiro p-value Normal distribution? Variance ratio Equal Variances?\n",
       "0     MEX             0.0                   No       1.049738              Yes\n",
       "1     USA             0.0                   No       1.081985              Yes\n",
       "2     BRA             0.0                   No       1.061109              Yes"
      ]
     },
     "execution_count": 21,
     "metadata": {},
     "output_type": "execute_result"
    }
   ],
   "source": [
    "df_summary"
   ]
  },
  {
   "cell_type": "markdown",
   "id": "8df22261",
   "metadata": {
    "heading_collapsed": true,
    "hidden": true
   },
   "source": [
    "### Hypothesis test"
   ]
  },
  {
   "cell_type": "code",
   "execution_count": 23,
   "id": "5167b3cf",
   "metadata": {
    "ExecuteTime": {
     "end_time": "2023-02-02T00:59:23.234716Z",
     "start_time": "2023-02-02T00:59:23.185090Z"
    },
    "hidden": true,
    "scrolled": false
   },
   "outputs": [
    {
     "data": {
      "text/html": [
       "<div>\n",
       "<style scoped>\n",
       "    .dataframe tbody tr th:only-of-type {\n",
       "        vertical-align: middle;\n",
       "    }\n",
       "\n",
       "    .dataframe tbody tr th {\n",
       "        vertical-align: top;\n",
       "    }\n",
       "\n",
       "    .dataframe thead th {\n",
       "        text-align: right;\n",
       "    }\n",
       "</style>\n",
       "<table border=\"1\" class=\"dataframe\">\n",
       "  <thead>\n",
       "    <tr style=\"text-align: right;\">\n",
       "      <th></th>\n",
       "      <th>uid</th>\n",
       "      <th>country</th>\n",
       "      <th>gender</th>\n",
       "      <th>spent</th>\n",
       "      <th>purchases</th>\n",
       "      <th>date</th>\n",
       "      <th>group</th>\n",
       "      <th>device</th>\n",
       "    </tr>\n",
       "  </thead>\n",
       "  <tbody>\n",
       "    <tr>\n",
       "      <th>7679</th>\n",
       "      <td>25981952</td>\n",
       "      <td>MEX</td>\n",
       "      <td>F</td>\n",
       "      <td>1497</td>\n",
       "      <td>3</td>\n",
       "      <td>2016-12-13</td>\n",
       "      <td>GRP A</td>\n",
       "      <td>I</td>\n",
       "    </tr>\n",
       "    <tr>\n",
       "      <th>39246</th>\n",
       "      <td>86959496</td>\n",
       "      <td>MEX</td>\n",
       "      <td>F</td>\n",
       "      <td>2494</td>\n",
       "      <td>6</td>\n",
       "      <td>2018-01-05</td>\n",
       "      <td>GRP A</td>\n",
       "      <td>I</td>\n",
       "    </tr>\n",
       "    <tr>\n",
       "      <th>38251</th>\n",
       "      <td>84978006</td>\n",
       "      <td>MEX</td>\n",
       "      <td>M</td>\n",
       "      <td>497</td>\n",
       "      <td>3</td>\n",
       "      <td>2016-07-27</td>\n",
       "      <td>GRP A</td>\n",
       "      <td>I</td>\n",
       "    </tr>\n",
       "    <tr>\n",
       "      <th>26569</th>\n",
       "      <td>62254922</td>\n",
       "      <td>MEX</td>\n",
       "      <td>M</td>\n",
       "      <td>299</td>\n",
       "      <td>1</td>\n",
       "      <td>2016-04-15</td>\n",
       "      <td>GRP A</td>\n",
       "      <td>A</td>\n",
       "    </tr>\n",
       "    <tr>\n",
       "      <th>18054</th>\n",
       "      <td>46080590</td>\n",
       "      <td>MEX</td>\n",
       "      <td>F</td>\n",
       "      <td>2096</td>\n",
       "      <td>4</td>\n",
       "      <td>2016-11-25</td>\n",
       "      <td>GRP A</td>\n",
       "      <td>I</td>\n",
       "    </tr>\n",
       "    <tr>\n",
       "      <th>...</th>\n",
       "      <td>...</td>\n",
       "      <td>...</td>\n",
       "      <td>...</td>\n",
       "      <td>...</td>\n",
       "      <td>...</td>\n",
       "      <td>...</td>\n",
       "      <td>...</td>\n",
       "      <td>...</td>\n",
       "    </tr>\n",
       "    <tr>\n",
       "      <th>38392</th>\n",
       "      <td>85241496</td>\n",
       "      <td>BRA</td>\n",
       "      <td>F</td>\n",
       "      <td>599</td>\n",
       "      <td>1</td>\n",
       "      <td>2016-10-01</td>\n",
       "      <td>GRP B</td>\n",
       "      <td>A</td>\n",
       "    </tr>\n",
       "    <tr>\n",
       "      <th>25471</th>\n",
       "      <td>60143852</td>\n",
       "      <td>BRA</td>\n",
       "      <td>F</td>\n",
       "      <td>1797</td>\n",
       "      <td>3</td>\n",
       "      <td>2016-07-15</td>\n",
       "      <td>GRP B</td>\n",
       "      <td>A</td>\n",
       "    </tr>\n",
       "    <tr>\n",
       "      <th>43643</th>\n",
       "      <td>95647935</td>\n",
       "      <td>BRA</td>\n",
       "      <td>F</td>\n",
       "      <td>1596</td>\n",
       "      <td>4</td>\n",
       "      <td>2016-04-20</td>\n",
       "      <td>GRP B</td>\n",
       "      <td>A</td>\n",
       "    </tr>\n",
       "    <tr>\n",
       "      <th>16113</th>\n",
       "      <td>42331972</td>\n",
       "      <td>BRA</td>\n",
       "      <td>F</td>\n",
       "      <td>3293</td>\n",
       "      <td>7</td>\n",
       "      <td>2018-01-07</td>\n",
       "      <td>GRP B</td>\n",
       "      <td>A</td>\n",
       "    </tr>\n",
       "    <tr>\n",
       "      <th>36890</th>\n",
       "      <td>82367555</td>\n",
       "      <td>BRA</td>\n",
       "      <td>F</td>\n",
       "      <td>2892</td>\n",
       "      <td>8</td>\n",
       "      <td>2016-07-29</td>\n",
       "      <td>GRP B</td>\n",
       "      <td>I</td>\n",
       "    </tr>\n",
       "  </tbody>\n",
       "</table>\n",
       "<p>12356 rows × 8 columns</p>\n",
       "</div>"
      ],
      "text/plain": [
       "            uid country gender spent purchases       date  group device\n",
       "7679   25981952     MEX      F  1497         3 2016-12-13  GRP A      I\n",
       "39246  86959496     MEX      F  2494         6 2018-01-05  GRP A      I\n",
       "38251  84978006     MEX      M   497         3 2016-07-27  GRP A      I\n",
       "26569  62254922     MEX      M   299         1 2016-04-15  GRP A      A\n",
       "18054  46080590     MEX      F  2096         4 2016-11-25  GRP A      I\n",
       "...         ...     ...    ...   ...       ...        ...    ...    ...\n",
       "38392  85241496     BRA      F   599         1 2016-10-01  GRP B      A\n",
       "25471  60143852     BRA      F  1797         3 2016-07-15  GRP B      A\n",
       "43643  95647935     BRA      F  1596         4 2016-04-20  GRP B      A\n",
       "16113  42331972     BRA      F  3293         7 2018-01-07  GRP B      A\n",
       "36890  82367555     BRA      F  2892         8 2016-07-29  GRP B      I\n",
       "\n",
       "[12356 rows x 8 columns]"
      ]
     },
     "execution_count": 23,
     "metadata": {},
     "output_type": "execute_result"
    }
   ],
   "source": [
    "df_AB"
   ]
  },
  {
   "cell_type": "code",
   "execution_count": 70,
   "id": "4ff93390",
   "metadata": {
    "ExecuteTime": {
     "end_time": "2023-02-02T01:53:28.618494Z",
     "start_time": "2023-02-02T01:53:28.470987Z"
    },
    "code_folding": [],
    "hidden": true
   },
   "outputs": [
    {
     "name": "stdout",
     "output_type": "stream",
     "text": [
      "País avaliado:MEX\n",
      "Teste estatístico selecionado baseado nos dados: Mann-Whitney\n",
      "Valor de p:0.28\n",
      "NÃO Existem diferenças entre os dois tratamentos\n",
      "\n",
      "País avaliado:USA\n",
      "Teste estatístico selecionado baseado nos dados: Mann-Whitney\n",
      "Valor de p:0.35\n",
      "NÃO Existem diferenças entre os dois tratamentos\n",
      "\n",
      "País avaliado:BRA\n",
      "Teste estatístico selecionado baseado nos dados: Mann-Whitney\n",
      "Valor de p:0.53\n",
      "NÃO Existem diferenças entre os dois tratamentos\n",
      "\n"
     ]
    }
   ],
   "source": [
    "alpha = 0.05\n",
    "\n",
    "df_results = pd.DataFrame(columns=['País','Teste aplicado','Valor de p','Diferenças?'],\n",
    "                          index=[i for i in range(len(df_AB['country'].unique()))])\n",
    "\n",
    "df_results['País'] = df_AB['country'].unique()\n",
    "\n",
    "\n",
    "for i in df_summary['country']:\n",
    "    \n",
    "    print(f'País avaliado:{i}')\n",
    "    \n",
    "    # Condição para teste não paramétrico de variâncias iguais\n",
    "    if (df_summary.loc[df_summary['country']==i, 'Shapiro p-value'].values[0] < alpha) & (df_summary.loc[df_summary['country']==i, 'Variance ratio'].values[0] < 4):\n",
    "                \n",
    "        # Aplicar teste Mann-Whitney\n",
    "        print('Teste estatístico selecionado baseado nos dados: Mann-Whitney')\n",
    "        teste_escolhido='Mann-Whitney'\n",
    "        results = stats.mannwhitneyu(x= df_AB.loc[(df_AB['country']==i) & (df_AB['group']=='GRP A'),'spent'].values,\n",
    "                                     y= df_AB.loc[(df_AB['country']==i) & (df_AB['group']=='GRP B'),'spent'].values,\n",
    "                                     use_continuity=True,\n",
    "                                     alternative='two-sided',\n",
    "                                     axis=0,\n",
    "                                     method='auto',\n",
    "                                     nan_policy='propagate',\n",
    "                                     keepdims=False)\n",
    "        \n",
    "        # Testar o valor de p para emitir o parecer\n",
    "        print(f'Valor de p:{np.round(results.pvalue, 2)}')\n",
    "        if results.pvalue < alpha:\n",
    "            print('Existem diferenças entre os dois tratamentos\\n')\n",
    "            resultado = 'Significativo'\n",
    "        \n",
    "        else:\n",
    "            print('NÃO Existem diferenças entre os dois tratamentos\\n')\n",
    "            resultado = 'Não significativo'\n",
    "        \n",
    "    \n",
    "    # Condição para teste não paramétrico de variâncias diferentes\n",
    "    elif (df_summary.loc[df_summary['country']==i, 'Shapiro p-value'].values[0] < alpha) & (df_summary.loc[df_summary['country']==i, 'Variance ratio'].values[0] < 4):\n",
    "        \n",
    "        # Aplicar teste Welch\n",
    "        print('Teste estatístico selecionado baseado nos dados: Welch')\n",
    "        teste_escolhido='Welch'\n",
    "        def welch_ttest(x, y):\n",
    "             ## Welch-Satterthwaite Degrees of Freedom ##\n",
    "                dof = (x.var()/x.size + y.var()/y.size)**2 / ((x.var()/x.size)**2 / (x.size-1) + (y.var()/y.size)**2 / (y.size-1))\n",
    "                t, p = stats.ttest_ind(x, y, equal_var = False)\n",
    "                print(\"\\n\",\n",
    "                      f\"Welch's t-test= {t:.4f}\", \"\\n\",\n",
    "                      f\"p-value = {p:.4f}\", \"\\n\",\n",
    "                      f\"Welch-Satterthwaite Degrees of Freedom= {dof:.4f}\")\n",
    "                \n",
    "                return t,p\n",
    "                \n",
    "        results = welch_ttest(x=df_AB.loc[(df_AB['country']==i) & (df_AB['group']=='GRP A'),'spent'].values,\n",
    "                              y=df_AB.loc[(df_AB['country']==i) & (df_AB['group']=='GRP B'),'spent'].values)\n",
    "        \n",
    "        # Testar o valor de p para emitir o parecer\n",
    "        print(f'Valor de p:{np.round(results.pvalue, 2)}')\n",
    "        if results.pvalue < alpha:\n",
    "            print('Existem diferenças entre os dois tratamentos\\n')\n",
    "            resultado = 'Significativo'\n",
    "        \n",
    "        else:\n",
    "            print('NÃO Existem diferenças entre os dois tratamentos\\n')\n",
    "            resultado = 'Não significativo'\n",
    "       \n",
    "              \n",
    "    # Condição para teste paramétrico de variâncias iguais\n",
    "    elif (df_summary.loc[df_summary['country']==i, 'Shapiro p-value'].values[0] > alpha) & (df_summary.loc[df_summary['country']==i, 'Variance ratio'].values[0] < 4):    \n",
    "        \n",
    "        # Aplicar o teste t paramétrico de variâncias iguais\n",
    "        print('Teste estatístico selecionado baseado nos dados: Parametric ttest - equal variances')\n",
    "        teste_escolhido='T test - equal variances'\n",
    "        results = stats.ttest_ind(x=df_AB.loc[(df_AB['country']==i) & (df_AB['group']=='GRP A'),'spent'].values,\n",
    "                                  y=df_AB.loc[(df_AB['country']==i) & (df_AB['group']=='GRP B'),'spent'].values,\n",
    "                                  equal_var = True)\n",
    "        \n",
    "        # Testar o valor de p para emitir o parecer\n",
    "        print(f'Valor de p:{np.round(results.pvalue, 2)}')\n",
    "        if results.pvalue < alpha:\n",
    "            print('Existem diferenças entre os dois tratamentos\\n')\n",
    "            resultado = 'Significativo'\n",
    "        \n",
    "        else:\n",
    "            print('NÃO Existem diferenças entre os dois tratamentos\\n')\n",
    "            resultado = 'Não significativo'\n",
    "        \n",
    "    else:\n",
    "        \n",
    "        # Aplicar o teste t paramétrico de variâncias diferentes\n",
    "        print('Teste estatístico selecionado baseado nos dados: Parametric ttest - unequal variances')\n",
    "        teste_escolhido='T test - unequal variances'\n",
    "        results = stats.ttest_ind(x=df_AB.loc[(df_AB['country']==i) & (df_AB['group']=='GRP A'),'spent'].values,\n",
    "                                  y=df_AB.loc[(df_AB['country']==i) & (df_AB['group']=='GRP B'),'spent'].values,\n",
    "                                  equal_var = False)\n",
    "        \n",
    "        # Testar o valor de p para emitir o parecer\n",
    "        print(f'Valor de p:{np.round(results.pvalue, 2)}')\n",
    "        if results.pvalue < alpha:\n",
    "            print('Existem diferenças entre os dois tratamentos\\n')\n",
    "            resultado = 'Significativo'\n",
    "        \n",
    "        else:\n",
    "            print('NÃO Existem diferenças entre os dois tratamentos\\n')\n",
    "            resultado = 'Não significativo'\n",
    "    \n",
    "    \n",
    "    # Preenchendo o df_results - > resultados dos testes estatísticos por países\n",
    "    df_results.loc[df_results['País']==i, 'Teste aplicado'] = teste_escolhido\n",
    "    \n",
    "    df_results.loc[df_results['País']==i, 'Valor de p'] = np.round(results.pvalue, 2)\n",
    "    \n",
    "    df_results.loc[df_results['País']==i, 'Diferenças?'] = resultado"
   ]
  },
  {
   "cell_type": "code",
   "execution_count": 71,
   "id": "f95cdd2b",
   "metadata": {
    "ExecuteTime": {
     "end_time": "2023-02-02T01:53:30.454497Z",
     "start_time": "2023-02-02T01:53:30.430354Z"
    },
    "hidden": true
   },
   "outputs": [
    {
     "data": {
      "text/html": [
       "<div>\n",
       "<style scoped>\n",
       "    .dataframe tbody tr th:only-of-type {\n",
       "        vertical-align: middle;\n",
       "    }\n",
       "\n",
       "    .dataframe tbody tr th {\n",
       "        vertical-align: top;\n",
       "    }\n",
       "\n",
       "    .dataframe thead th {\n",
       "        text-align: right;\n",
       "    }\n",
       "</style>\n",
       "<table border=\"1\" class=\"dataframe\">\n",
       "  <thead>\n",
       "    <tr style=\"text-align: right;\">\n",
       "      <th></th>\n",
       "      <th>País</th>\n",
       "      <th>Teste aplicado</th>\n",
       "      <th>Valor de p</th>\n",
       "      <th>Diferenças?</th>\n",
       "    </tr>\n",
       "  </thead>\n",
       "  <tbody>\n",
       "    <tr>\n",
       "      <th>0</th>\n",
       "      <td>MEX</td>\n",
       "      <td>Mann-Whitney</td>\n",
       "      <td>0.28</td>\n",
       "      <td>Não significativo</td>\n",
       "    </tr>\n",
       "    <tr>\n",
       "      <th>1</th>\n",
       "      <td>USA</td>\n",
       "      <td>Mann-Whitney</td>\n",
       "      <td>0.35</td>\n",
       "      <td>Não significativo</td>\n",
       "    </tr>\n",
       "    <tr>\n",
       "      <th>2</th>\n",
       "      <td>BRA</td>\n",
       "      <td>Mann-Whitney</td>\n",
       "      <td>0.53</td>\n",
       "      <td>Não significativo</td>\n",
       "    </tr>\n",
       "  </tbody>\n",
       "</table>\n",
       "</div>"
      ],
      "text/plain": [
       "  País Teste aplicado Valor de p        Diferenças?\n",
       "0  MEX   Mann-Whitney       0.28  Não significativo\n",
       "1  USA   Mann-Whitney       0.35  Não significativo\n",
       "2  BRA   Mann-Whitney       0.53  Não significativo"
      ]
     },
     "execution_count": 71,
     "metadata": {},
     "output_type": "execute_result"
    }
   ],
   "source": [
    "df_results"
   ]
  },
  {
   "cell_type": "markdown",
   "id": "8d2b9350",
   "metadata": {
    "heading_collapsed": true
   },
   "source": [
    "## AB Testing - evaluating conversion rate"
   ]
  },
  {
   "cell_type": "markdown",
   "id": "af390ab7",
   "metadata": {
    "heading_collapsed": true,
    "hidden": true
   },
   "source": [
    "### Library imports"
   ]
  },
  {
   "cell_type": "code",
   "execution_count": 4,
   "id": "6532e267",
   "metadata": {
    "ExecuteTime": {
     "end_time": "2023-03-10T15:50:16.529654Z",
     "start_time": "2023-03-10T15:50:10.445640Z"
    },
    "hidden": true
   },
   "outputs": [],
   "source": [
    "import pandas as pd\n",
    "import numpy as np\n",
    "\n",
    "from statsmodels.stats.proportion import proportion_effectsize\n",
    "from statsmodels.stats.power import NormalIndPower\n",
    "from scipy.stats import chi2_contingency"
   ]
  },
  {
   "cell_type": "markdown",
   "id": "bf8fd1fc",
   "metadata": {
    "heading_collapsed": true,
    "hidden": true
   },
   "source": [
    "### Data check"
   ]
  },
  {
   "cell_type": "code",
   "execution_count": 5,
   "id": "492eb580",
   "metadata": {
    "ExecuteTime": {
     "end_time": "2023-03-10T15:50:18.492507Z",
     "start_time": "2023-03-10T15:50:16.535129Z"
    },
    "hidden": true
   },
   "outputs": [
    {
     "data": {
      "text/html": [
       "<div>\n",
       "<style scoped>\n",
       "    .dataframe tbody tr th:only-of-type {\n",
       "        vertical-align: middle;\n",
       "    }\n",
       "\n",
       "    .dataframe tbody tr th {\n",
       "        vertical-align: top;\n",
       "    }\n",
       "\n",
       "    .dataframe thead th {\n",
       "        text-align: right;\n",
       "    }\n",
       "</style>\n",
       "<table border=\"1\" class=\"dataframe\">\n",
       "  <thead>\n",
       "    <tr style=\"text-align: right;\">\n",
       "      <th></th>\n",
       "      <th>user_id</th>\n",
       "      <th>timestamp</th>\n",
       "      <th>group</th>\n",
       "      <th>landing_page</th>\n",
       "      <th>converted</th>\n",
       "    </tr>\n",
       "  </thead>\n",
       "  <tbody>\n",
       "    <tr>\n",
       "      <th>0</th>\n",
       "      <td>851104</td>\n",
       "      <td>2017-01-21 22:11:48.556739</td>\n",
       "      <td>control</td>\n",
       "      <td>old_page</td>\n",
       "      <td>0</td>\n",
       "    </tr>\n",
       "    <tr>\n",
       "      <th>1</th>\n",
       "      <td>804228</td>\n",
       "      <td>2017-01-12 08:01:45.159739</td>\n",
       "      <td>control</td>\n",
       "      <td>old_page</td>\n",
       "      <td>0</td>\n",
       "    </tr>\n",
       "    <tr>\n",
       "      <th>2</th>\n",
       "      <td>661590</td>\n",
       "      <td>2017-01-11 16:55:06.154213</td>\n",
       "      <td>treatment</td>\n",
       "      <td>new_page</td>\n",
       "      <td>0</td>\n",
       "    </tr>\n",
       "    <tr>\n",
       "      <th>3</th>\n",
       "      <td>853541</td>\n",
       "      <td>2017-01-08 18:28:03.143765</td>\n",
       "      <td>treatment</td>\n",
       "      <td>new_page</td>\n",
       "      <td>0</td>\n",
       "    </tr>\n",
       "    <tr>\n",
       "      <th>4</th>\n",
       "      <td>864975</td>\n",
       "      <td>2017-01-21 01:52:26.210827</td>\n",
       "      <td>control</td>\n",
       "      <td>old_page</td>\n",
       "      <td>1</td>\n",
       "    </tr>\n",
       "    <tr>\n",
       "      <th>...</th>\n",
       "      <td>...</td>\n",
       "      <td>...</td>\n",
       "      <td>...</td>\n",
       "      <td>...</td>\n",
       "      <td>...</td>\n",
       "    </tr>\n",
       "    <tr>\n",
       "      <th>294473</th>\n",
       "      <td>751197</td>\n",
       "      <td>2017-01-03 22:28:38.630509</td>\n",
       "      <td>control</td>\n",
       "      <td>old_page</td>\n",
       "      <td>0</td>\n",
       "    </tr>\n",
       "    <tr>\n",
       "      <th>294474</th>\n",
       "      <td>945152</td>\n",
       "      <td>2017-01-12 00:51:57.078372</td>\n",
       "      <td>control</td>\n",
       "      <td>old_page</td>\n",
       "      <td>0</td>\n",
       "    </tr>\n",
       "    <tr>\n",
       "      <th>294475</th>\n",
       "      <td>734608</td>\n",
       "      <td>2017-01-22 11:45:03.439544</td>\n",
       "      <td>control</td>\n",
       "      <td>old_page</td>\n",
       "      <td>0</td>\n",
       "    </tr>\n",
       "    <tr>\n",
       "      <th>294476</th>\n",
       "      <td>697314</td>\n",
       "      <td>2017-01-15 01:20:28.957438</td>\n",
       "      <td>control</td>\n",
       "      <td>old_page</td>\n",
       "      <td>0</td>\n",
       "    </tr>\n",
       "    <tr>\n",
       "      <th>294477</th>\n",
       "      <td>715931</td>\n",
       "      <td>2017-01-16 12:40:24.467417</td>\n",
       "      <td>treatment</td>\n",
       "      <td>new_page</td>\n",
       "      <td>0</td>\n",
       "    </tr>\n",
       "  </tbody>\n",
       "</table>\n",
       "<p>294478 rows × 5 columns</p>\n",
       "</div>"
      ],
      "text/plain": [
       "        user_id                   timestamp      group landing_page  converted\n",
       "0        851104  2017-01-21 22:11:48.556739    control     old_page          0\n",
       "1        804228  2017-01-12 08:01:45.159739    control     old_page          0\n",
       "2        661590  2017-01-11 16:55:06.154213  treatment     new_page          0\n",
       "3        853541  2017-01-08 18:28:03.143765  treatment     new_page          0\n",
       "4        864975  2017-01-21 01:52:26.210827    control     old_page          1\n",
       "...         ...                         ...        ...          ...        ...\n",
       "294473   751197  2017-01-03 22:28:38.630509    control     old_page          0\n",
       "294474   945152  2017-01-12 00:51:57.078372    control     old_page          0\n",
       "294475   734608  2017-01-22 11:45:03.439544    control     old_page          0\n",
       "294476   697314  2017-01-15 01:20:28.957438    control     old_page          0\n",
       "294477   715931  2017-01-16 12:40:24.467417  treatment     new_page          0\n",
       "\n",
       "[294478 rows x 5 columns]"
      ]
     },
     "execution_count": 5,
     "metadata": {},
     "output_type": "execute_result"
    }
   ],
   "source": [
    "df = pd.read_csv('/home/gustavo/repos/AB_testing/ab_data.csv')\n",
    "\n",
    "df"
   ]
  },
  {
   "cell_type": "code",
   "execution_count": 6,
   "id": "4091b2ca",
   "metadata": {
    "ExecuteTime": {
     "end_time": "2023-03-10T15:50:19.378630Z",
     "start_time": "2023-03-10T15:50:19.241309Z"
    },
    "hidden": true
   },
   "outputs": [
    {
     "data": {
      "text/plain": [
       "user_id         0\n",
       "timestamp       0\n",
       "group           0\n",
       "landing_page    0\n",
       "converted       0\n",
       "dtype: int64"
      ]
     },
     "execution_count": 6,
     "metadata": {},
     "output_type": "execute_result"
    }
   ],
   "source": [
    "# Checking NA's\n",
    "\n",
    "df.isna().sum()"
   ]
  },
  {
   "cell_type": "code",
   "execution_count": 7,
   "id": "a765eed8",
   "metadata": {
    "ExecuteTime": {
     "end_time": "2023-03-10T15:50:19.788342Z",
     "start_time": "2023-03-10T15:50:19.535647Z"
    },
    "hidden": true
   },
   "outputs": [
    {
     "data": {
      "text/plain": [
       "0"
      ]
     },
     "execution_count": 7,
     "metadata": {},
     "output_type": "execute_result"
    }
   ],
   "source": [
    "# Checking duplicated rows\n",
    "\n",
    "df.duplicated().sum()"
   ]
  },
  {
   "cell_type": "code",
   "execution_count": 8,
   "id": "82c87a17",
   "metadata": {
    "ExecuteTime": {
     "end_time": "2023-03-10T15:50:19.843461Z",
     "start_time": "2023-03-10T15:50:19.831468Z"
    },
    "hidden": true
   },
   "outputs": [
    {
     "data": {
      "text/plain": [
       "user_id          int64\n",
       "timestamp       object\n",
       "group           object\n",
       "landing_page    object\n",
       "converted        int64\n",
       "dtype: object"
      ]
     },
     "execution_count": 8,
     "metadata": {},
     "output_type": "execute_result"
    }
   ],
   "source": [
    "# Checking data types\n",
    "\n",
    "df.dtypes"
   ]
  },
  {
   "cell_type": "code",
   "execution_count": 9,
   "id": "4d637a71",
   "metadata": {
    "ExecuteTime": {
     "end_time": "2023-03-10T15:50:20.283818Z",
     "start_time": "2023-03-10T15:50:20.124361Z"
    },
    "hidden": true
   },
   "outputs": [
    {
     "data": {
      "text/plain": [
       "0   2017-01-21 22:11:48.556739\n",
       "1   2017-01-12 08:01:45.159739\n",
       "2   2017-01-11 16:55:06.154213\n",
       "3   2017-01-08 18:28:03.143765\n",
       "4   2017-01-21 01:52:26.210827\n",
       "Name: timestamp, dtype: datetime64[ns]"
      ]
     },
     "execution_count": 9,
     "metadata": {},
     "output_type": "execute_result"
    }
   ],
   "source": [
    "# Converting 'timestamp' column to datetime\n",
    "\n",
    "df['timestamp'] = pd.to_datetime(df['timestamp'])\n",
    "\n",
    "df['timestamp'].head()"
   ]
  },
  {
   "cell_type": "code",
   "execution_count": 10,
   "id": "3f4608c8",
   "metadata": {
    "ExecuteTime": {
     "end_time": "2023-03-10T15:50:20.718627Z",
     "start_time": "2023-03-10T15:50:20.494060Z"
    },
    "hidden": true
   },
   "outputs": [
    {
     "data": {
      "text/html": [
       "<div>\n",
       "<style scoped>\n",
       "    .dataframe tbody tr th:only-of-type {\n",
       "        vertical-align: middle;\n",
       "    }\n",
       "\n",
       "    .dataframe tbody tr th {\n",
       "        vertical-align: top;\n",
       "    }\n",
       "\n",
       "    .dataframe thead th {\n",
       "        text-align: right;\n",
       "    }\n",
       "</style>\n",
       "<table border=\"1\" class=\"dataframe\">\n",
       "  <thead>\n",
       "    <tr style=\"text-align: right;\">\n",
       "      <th></th>\n",
       "      <th>user_id</th>\n",
       "      <th>timestamp</th>\n",
       "      <th>group</th>\n",
       "      <th>landing_page</th>\n",
       "      <th>converted</th>\n",
       "      <th>non-converted</th>\n",
       "    </tr>\n",
       "  </thead>\n",
       "  <tbody>\n",
       "    <tr>\n",
       "      <th>0</th>\n",
       "      <td>851104</td>\n",
       "      <td>2017-01-21 22:11:48.556739</td>\n",
       "      <td>control</td>\n",
       "      <td>old_page</td>\n",
       "      <td>0</td>\n",
       "      <td>1</td>\n",
       "    </tr>\n",
       "    <tr>\n",
       "      <th>1</th>\n",
       "      <td>804228</td>\n",
       "      <td>2017-01-12 08:01:45.159739</td>\n",
       "      <td>control</td>\n",
       "      <td>old_page</td>\n",
       "      <td>0</td>\n",
       "      <td>1</td>\n",
       "    </tr>\n",
       "    <tr>\n",
       "      <th>2</th>\n",
       "      <td>661590</td>\n",
       "      <td>2017-01-11 16:55:06.154213</td>\n",
       "      <td>treatment</td>\n",
       "      <td>new_page</td>\n",
       "      <td>0</td>\n",
       "      <td>1</td>\n",
       "    </tr>\n",
       "    <tr>\n",
       "      <th>3</th>\n",
       "      <td>853541</td>\n",
       "      <td>2017-01-08 18:28:03.143765</td>\n",
       "      <td>treatment</td>\n",
       "      <td>new_page</td>\n",
       "      <td>0</td>\n",
       "      <td>1</td>\n",
       "    </tr>\n",
       "    <tr>\n",
       "      <th>4</th>\n",
       "      <td>864975</td>\n",
       "      <td>2017-01-21 01:52:26.210827</td>\n",
       "      <td>control</td>\n",
       "      <td>old_page</td>\n",
       "      <td>1</td>\n",
       "      <td>0</td>\n",
       "    </tr>\n",
       "  </tbody>\n",
       "</table>\n",
       "</div>"
      ],
      "text/plain": [
       "   user_id                  timestamp      group landing_page  converted  \\\n",
       "0   851104 2017-01-21 22:11:48.556739    control     old_page          0   \n",
       "1   804228 2017-01-12 08:01:45.159739    control     old_page          0   \n",
       "2   661590 2017-01-11 16:55:06.154213  treatment     new_page          0   \n",
       "3   853541 2017-01-08 18:28:03.143765  treatment     new_page          0   \n",
       "4   864975 2017-01-21 01:52:26.210827    control     old_page          1   \n",
       "\n",
       "   non-converted  \n",
       "0              1  \n",
       "1              1  \n",
       "2              1  \n",
       "3              1  \n",
       "4              0  "
      ]
     },
     "execution_count": 10,
     "metadata": {},
     "output_type": "execute_result"
    }
   ],
   "source": [
    "# Creating 'non-converted' column\n",
    "\n",
    "df['non-converted'] = df['converted'].apply(lambda x: 1 if x==0 else 0)\n",
    "\n",
    "df.head()"
   ]
  },
  {
   "cell_type": "code",
   "execution_count": null,
   "id": "b9b17091",
   "metadata": {
    "hidden": true
   },
   "outputs": [],
   "source": []
  },
  {
   "cell_type": "code",
   "execution_count": 11,
   "id": "860b6cb5",
   "metadata": {
    "ExecuteTime": {
     "end_time": "2023-03-10T15:50:21.818619Z",
     "start_time": "2023-03-10T15:50:21.651007Z"
    },
    "hidden": true
   },
   "outputs": [
    {
     "data": {
      "text/html": [
       "<div>\n",
       "<style scoped>\n",
       "    .dataframe tbody tr th:only-of-type {\n",
       "        vertical-align: middle;\n",
       "    }\n",
       "\n",
       "    .dataframe tbody tr th {\n",
       "        vertical-align: top;\n",
       "    }\n",
       "\n",
       "    .dataframe thead th {\n",
       "        text-align: right;\n",
       "    }\n",
       "</style>\n",
       "<table border=\"1\" class=\"dataframe\">\n",
       "  <thead>\n",
       "    <tr style=\"text-align: right;\">\n",
       "      <th></th>\n",
       "      <th></th>\n",
       "      <th>Count</th>\n",
       "    </tr>\n",
       "    <tr>\n",
       "      <th>group</th>\n",
       "      <th>landing_page</th>\n",
       "      <th></th>\n",
       "    </tr>\n",
       "  </thead>\n",
       "  <tbody>\n",
       "    <tr>\n",
       "      <th>treatment</th>\n",
       "      <th>new_page</th>\n",
       "      <td>145311</td>\n",
       "    </tr>\n",
       "    <tr>\n",
       "      <th>control</th>\n",
       "      <th>old_page</th>\n",
       "      <td>145274</td>\n",
       "    </tr>\n",
       "    <tr>\n",
       "      <th>treatment</th>\n",
       "      <th>old_page</th>\n",
       "      <td>1965</td>\n",
       "    </tr>\n",
       "    <tr>\n",
       "      <th>control</th>\n",
       "      <th>new_page</th>\n",
       "      <td>1928</td>\n",
       "    </tr>\n",
       "  </tbody>\n",
       "</table>\n",
       "</div>"
      ],
      "text/plain": [
       "                         Count\n",
       "group     landing_page        \n",
       "treatment new_page      145311\n",
       "control   old_page      145274\n",
       "treatment old_page        1965\n",
       "control   new_page        1928"
      ]
     },
     "execution_count": 11,
     "metadata": {},
     "output_type": "execute_result"
    }
   ],
   "source": [
    "# Checking Countrol -> old_page and Treatment -> new_page count\n",
    "\n",
    "pd.DataFrame(df[['group','landing_page']].value_counts()).rename(columns={0:'Count'})"
   ]
  },
  {
   "cell_type": "code",
   "execution_count": 12,
   "id": "32f439c6",
   "metadata": {
    "ExecuteTime": {
     "end_time": "2023-03-10T15:50:22.329074Z",
     "start_time": "2023-03-10T15:50:22.065167Z"
    },
    "hidden": true
   },
   "outputs": [
    {
     "data": {
      "text/html": [
       "<div>\n",
       "<style scoped>\n",
       "    .dataframe tbody tr th:only-of-type {\n",
       "        vertical-align: middle;\n",
       "    }\n",
       "\n",
       "    .dataframe tbody tr th {\n",
       "        vertical-align: top;\n",
       "    }\n",
       "\n",
       "    .dataframe thead th {\n",
       "        text-align: right;\n",
       "    }\n",
       "</style>\n",
       "<table border=\"1\" class=\"dataframe\">\n",
       "  <thead>\n",
       "    <tr style=\"text-align: right;\">\n",
       "      <th></th>\n",
       "      <th>user_id</th>\n",
       "      <th>timestamp</th>\n",
       "      <th>group</th>\n",
       "      <th>landing_page</th>\n",
       "      <th>converted</th>\n",
       "      <th>non-converted</th>\n",
       "    </tr>\n",
       "  </thead>\n",
       "  <tbody>\n",
       "    <tr>\n",
       "      <th>0</th>\n",
       "      <td>851104</td>\n",
       "      <td>2017-01-21 22:11:48.556739</td>\n",
       "      <td>control</td>\n",
       "      <td>old_page</td>\n",
       "      <td>0</td>\n",
       "      <td>1</td>\n",
       "    </tr>\n",
       "    <tr>\n",
       "      <th>1</th>\n",
       "      <td>804228</td>\n",
       "      <td>2017-01-12 08:01:45.159739</td>\n",
       "      <td>control</td>\n",
       "      <td>old_page</td>\n",
       "      <td>0</td>\n",
       "      <td>1</td>\n",
       "    </tr>\n",
       "    <tr>\n",
       "      <th>2</th>\n",
       "      <td>661590</td>\n",
       "      <td>2017-01-11 16:55:06.154213</td>\n",
       "      <td>treatment</td>\n",
       "      <td>new_page</td>\n",
       "      <td>0</td>\n",
       "      <td>1</td>\n",
       "    </tr>\n",
       "    <tr>\n",
       "      <th>3</th>\n",
       "      <td>853541</td>\n",
       "      <td>2017-01-08 18:28:03.143765</td>\n",
       "      <td>treatment</td>\n",
       "      <td>new_page</td>\n",
       "      <td>0</td>\n",
       "      <td>1</td>\n",
       "    </tr>\n",
       "    <tr>\n",
       "      <th>4</th>\n",
       "      <td>864975</td>\n",
       "      <td>2017-01-21 01:52:26.210827</td>\n",
       "      <td>control</td>\n",
       "      <td>old_page</td>\n",
       "      <td>1</td>\n",
       "      <td>0</td>\n",
       "    </tr>\n",
       "    <tr>\n",
       "      <th>...</th>\n",
       "      <td>...</td>\n",
       "      <td>...</td>\n",
       "      <td>...</td>\n",
       "      <td>...</td>\n",
       "      <td>...</td>\n",
       "      <td>...</td>\n",
       "    </tr>\n",
       "    <tr>\n",
       "      <th>294473</th>\n",
       "      <td>751197</td>\n",
       "      <td>2017-01-03 22:28:38.630509</td>\n",
       "      <td>control</td>\n",
       "      <td>old_page</td>\n",
       "      <td>0</td>\n",
       "      <td>1</td>\n",
       "    </tr>\n",
       "    <tr>\n",
       "      <th>294474</th>\n",
       "      <td>945152</td>\n",
       "      <td>2017-01-12 00:51:57.078372</td>\n",
       "      <td>control</td>\n",
       "      <td>old_page</td>\n",
       "      <td>0</td>\n",
       "      <td>1</td>\n",
       "    </tr>\n",
       "    <tr>\n",
       "      <th>294475</th>\n",
       "      <td>734608</td>\n",
       "      <td>2017-01-22 11:45:03.439544</td>\n",
       "      <td>control</td>\n",
       "      <td>old_page</td>\n",
       "      <td>0</td>\n",
       "      <td>1</td>\n",
       "    </tr>\n",
       "    <tr>\n",
       "      <th>294476</th>\n",
       "      <td>697314</td>\n",
       "      <td>2017-01-15 01:20:28.957438</td>\n",
       "      <td>control</td>\n",
       "      <td>old_page</td>\n",
       "      <td>0</td>\n",
       "      <td>1</td>\n",
       "    </tr>\n",
       "    <tr>\n",
       "      <th>294477</th>\n",
       "      <td>715931</td>\n",
       "      <td>2017-01-16 12:40:24.467417</td>\n",
       "      <td>treatment</td>\n",
       "      <td>new_page</td>\n",
       "      <td>0</td>\n",
       "      <td>1</td>\n",
       "    </tr>\n",
       "  </tbody>\n",
       "</table>\n",
       "<p>290585 rows × 6 columns</p>\n",
       "</div>"
      ],
      "text/plain": [
       "        user_id                  timestamp      group landing_page  converted  \\\n",
       "0        851104 2017-01-21 22:11:48.556739    control     old_page          0   \n",
       "1        804228 2017-01-12 08:01:45.159739    control     old_page          0   \n",
       "2        661590 2017-01-11 16:55:06.154213  treatment     new_page          0   \n",
       "3        853541 2017-01-08 18:28:03.143765  treatment     new_page          0   \n",
       "4        864975 2017-01-21 01:52:26.210827    control     old_page          1   \n",
       "...         ...                        ...        ...          ...        ...   \n",
       "294473   751197 2017-01-03 22:28:38.630509    control     old_page          0   \n",
       "294474   945152 2017-01-12 00:51:57.078372    control     old_page          0   \n",
       "294475   734608 2017-01-22 11:45:03.439544    control     old_page          0   \n",
       "294476   697314 2017-01-15 01:20:28.957438    control     old_page          0   \n",
       "294477   715931 2017-01-16 12:40:24.467417  treatment     new_page          0   \n",
       "\n",
       "        non-converted  \n",
       "0                   1  \n",
       "1                   1  \n",
       "2                   1  \n",
       "3                   1  \n",
       "4                   0  \n",
       "...               ...  \n",
       "294473              1  \n",
       "294474              1  \n",
       "294475              1  \n",
       "294476              1  \n",
       "294477              1  \n",
       "\n",
       "[290585 rows x 6 columns]"
      ]
     },
     "execution_count": 12,
     "metadata": {},
     "output_type": "execute_result"
    }
   ],
   "source": [
    "# There are Control group that received new_page as well as Treatment that received old_page\n",
    "## these inconsistencies must be removed\n",
    "\n",
    "\n",
    "df = df[(df['group']=='control') & (df['landing_page']=='old_page') | (df['group']=='treatment') & (df['landing_page']=='new_page')]\n",
    "\n",
    "df"
   ]
  },
  {
   "cell_type": "code",
   "execution_count": 13,
   "id": "2f661e3b",
   "metadata": {
    "ExecuteTime": {
     "end_time": "2023-03-10T15:50:22.671364Z",
     "start_time": "2023-03-10T15:50:22.546808Z"
    },
    "hidden": true
   },
   "outputs": [
    {
     "data": {
      "text/html": [
       "<div>\n",
       "<style scoped>\n",
       "    .dataframe tbody tr th:only-of-type {\n",
       "        vertical-align: middle;\n",
       "    }\n",
       "\n",
       "    .dataframe tbody tr th {\n",
       "        vertical-align: top;\n",
       "    }\n",
       "\n",
       "    .dataframe thead th {\n",
       "        text-align: right;\n",
       "    }\n",
       "</style>\n",
       "<table border=\"1\" class=\"dataframe\">\n",
       "  <thead>\n",
       "    <tr style=\"text-align: right;\">\n",
       "      <th></th>\n",
       "      <th></th>\n",
       "      <th>Count</th>\n",
       "    </tr>\n",
       "    <tr>\n",
       "      <th>group</th>\n",
       "      <th>landing_page</th>\n",
       "      <th></th>\n",
       "    </tr>\n",
       "  </thead>\n",
       "  <tbody>\n",
       "    <tr>\n",
       "      <th>treatment</th>\n",
       "      <th>new_page</th>\n",
       "      <td>145311</td>\n",
       "    </tr>\n",
       "    <tr>\n",
       "      <th>control</th>\n",
       "      <th>old_page</th>\n",
       "      <td>145274</td>\n",
       "    </tr>\n",
       "  </tbody>\n",
       "</table>\n",
       "</div>"
      ],
      "text/plain": [
       "                         Count\n",
       "group     landing_page        \n",
       "treatment new_page      145311\n",
       "control   old_page      145274"
      ]
     },
     "execution_count": 13,
     "metadata": {},
     "output_type": "execute_result"
    }
   ],
   "source": [
    "# Checking it again\n",
    "\n",
    "pd.DataFrame(df[['group','landing_page']].value_counts()).rename(columns={0:'Count'})"
   ]
  },
  {
   "cell_type": "code",
   "execution_count": 15,
   "id": "2b6bb280",
   "metadata": {
    "ExecuteTime": {
     "end_time": "2023-03-10T15:50:54.468645Z",
     "start_time": "2023-03-10T15:50:54.392307Z"
    },
    "hidden": true,
    "scrolled": false
   },
   "outputs": [
    {
     "data": {
      "text/html": [
       "<div>\n",
       "<style scoped>\n",
       "    .dataframe tbody tr th:only-of-type {\n",
       "        vertical-align: middle;\n",
       "    }\n",
       "\n",
       "    .dataframe tbody tr th {\n",
       "        vertical-align: top;\n",
       "    }\n",
       "\n",
       "    .dataframe thead th {\n",
       "        text-align: right;\n",
       "    }\n",
       "</style>\n",
       "<table border=\"1\" class=\"dataframe\">\n",
       "  <thead>\n",
       "    <tr style=\"text-align: right;\">\n",
       "      <th></th>\n",
       "      <th>user_id</th>\n",
       "      <th>timestamp</th>\n",
       "      <th>group</th>\n",
       "      <th>landing_page</th>\n",
       "      <th>converted</th>\n",
       "      <th>non-converted</th>\n",
       "    </tr>\n",
       "  </thead>\n",
       "  <tbody>\n",
       "    <tr>\n",
       "      <th>0</th>\n",
       "      <td>922696</td>\n",
       "      <td>2017-01-02 13:42:05.378582</td>\n",
       "      <td>treatment</td>\n",
       "      <td>new_page</td>\n",
       "      <td>0</td>\n",
       "      <td>1</td>\n",
       "    </tr>\n",
       "    <tr>\n",
       "      <th>1</th>\n",
       "      <td>781507</td>\n",
       "      <td>2017-01-02 13:42:15.234051</td>\n",
       "      <td>control</td>\n",
       "      <td>old_page</td>\n",
       "      <td>0</td>\n",
       "      <td>1</td>\n",
       "    </tr>\n",
       "    <tr>\n",
       "      <th>2</th>\n",
       "      <td>737319</td>\n",
       "      <td>2017-01-02 13:42:21.786186</td>\n",
       "      <td>control</td>\n",
       "      <td>old_page</td>\n",
       "      <td>0</td>\n",
       "      <td>1</td>\n",
       "    </tr>\n",
       "    <tr>\n",
       "      <th>3</th>\n",
       "      <td>818377</td>\n",
       "      <td>2017-01-02 13:42:26.640581</td>\n",
       "      <td>treatment</td>\n",
       "      <td>new_page</td>\n",
       "      <td>0</td>\n",
       "      <td>1</td>\n",
       "    </tr>\n",
       "    <tr>\n",
       "      <th>4</th>\n",
       "      <td>725857</td>\n",
       "      <td>2017-01-02 13:42:27.851110</td>\n",
       "      <td>treatment</td>\n",
       "      <td>new_page</td>\n",
       "      <td>0</td>\n",
       "      <td>1</td>\n",
       "    </tr>\n",
       "    <tr>\n",
       "      <th>...</th>\n",
       "      <td>...</td>\n",
       "      <td>...</td>\n",
       "      <td>...</td>\n",
       "      <td>...</td>\n",
       "      <td>...</td>\n",
       "      <td>...</td>\n",
       "    </tr>\n",
       "    <tr>\n",
       "      <th>290580</th>\n",
       "      <td>799244</td>\n",
       "      <td>2017-01-24 13:41:15.325359</td>\n",
       "      <td>treatment</td>\n",
       "      <td>new_page</td>\n",
       "      <td>0</td>\n",
       "      <td>1</td>\n",
       "    </tr>\n",
       "    <tr>\n",
       "      <th>290581</th>\n",
       "      <td>808330</td>\n",
       "      <td>2017-01-24 13:41:19.152664</td>\n",
       "      <td>control</td>\n",
       "      <td>old_page</td>\n",
       "      <td>0</td>\n",
       "      <td>1</td>\n",
       "    </tr>\n",
       "    <tr>\n",
       "      <th>290582</th>\n",
       "      <td>843121</td>\n",
       "      <td>2017-01-24 13:41:44.097174</td>\n",
       "      <td>treatment</td>\n",
       "      <td>new_page</td>\n",
       "      <td>0</td>\n",
       "      <td>1</td>\n",
       "    </tr>\n",
       "    <tr>\n",
       "      <th>290583</th>\n",
       "      <td>836373</td>\n",
       "      <td>2017-01-24 13:41:52.604673</td>\n",
       "      <td>control</td>\n",
       "      <td>old_page</td>\n",
       "      <td>0</td>\n",
       "      <td>1</td>\n",
       "    </tr>\n",
       "    <tr>\n",
       "      <th>290584</th>\n",
       "      <td>920411</td>\n",
       "      <td>2017-01-24 13:41:54.460509</td>\n",
       "      <td>control</td>\n",
       "      <td>old_page</td>\n",
       "      <td>0</td>\n",
       "      <td>1</td>\n",
       "    </tr>\n",
       "  </tbody>\n",
       "</table>\n",
       "<p>290585 rows × 6 columns</p>\n",
       "</div>"
      ],
      "text/plain": [
       "        user_id                  timestamp      group landing_page  converted  \\\n",
       "0        922696 2017-01-02 13:42:05.378582  treatment     new_page          0   \n",
       "1        781507 2017-01-02 13:42:15.234051    control     old_page          0   \n",
       "2        737319 2017-01-02 13:42:21.786186    control     old_page          0   \n",
       "3        818377 2017-01-02 13:42:26.640581  treatment     new_page          0   \n",
       "4        725857 2017-01-02 13:42:27.851110  treatment     new_page          0   \n",
       "...         ...                        ...        ...          ...        ...   \n",
       "290580   799244 2017-01-24 13:41:15.325359  treatment     new_page          0   \n",
       "290581   808330 2017-01-24 13:41:19.152664    control     old_page          0   \n",
       "290582   843121 2017-01-24 13:41:44.097174  treatment     new_page          0   \n",
       "290583   836373 2017-01-24 13:41:52.604673    control     old_page          0   \n",
       "290584   920411 2017-01-24 13:41:54.460509    control     old_page          0   \n",
       "\n",
       "        non-converted  \n",
       "0                   1  \n",
       "1                   1  \n",
       "2                   1  \n",
       "3                   1  \n",
       "4                   1  \n",
       "...               ...  \n",
       "290580              1  \n",
       "290581              1  \n",
       "290582              1  \n",
       "290583              1  \n",
       "290584              1  \n",
       "\n",
       "[290585 rows x 6 columns]"
      ]
     },
     "execution_count": 15,
     "metadata": {},
     "output_type": "execute_result"
    }
   ],
   "source": [
    "# Sort dataframe by timestamp\n",
    "\n",
    "df = df.sort_values(by='timestamp', ignore_index=True)\n",
    "\n",
    "df"
   ]
  },
  {
   "cell_type": "code",
   "execution_count": null,
   "id": "3336953d",
   "metadata": {
    "hidden": true
   },
   "outputs": [],
   "source": []
  },
  {
   "cell_type": "code",
   "execution_count": null,
   "id": "7d9279ed",
   "metadata": {
    "hidden": true
   },
   "outputs": [],
   "source": []
  },
  {
   "cell_type": "code",
   "execution_count": null,
   "id": "df9548a1",
   "metadata": {
    "hidden": true
   },
   "outputs": [],
   "source": []
  },
  {
   "cell_type": "code",
   "execution_count": null,
   "id": "95ce02a1",
   "metadata": {
    "hidden": true
   },
   "outputs": [],
   "source": []
  },
  {
   "cell_type": "code",
   "execution_count": null,
   "id": "a8f8ce53",
   "metadata": {
    "hidden": true
   },
   "outputs": [],
   "source": []
  },
  {
   "cell_type": "code",
   "execution_count": 12,
   "id": "a2a232a8",
   "metadata": {
    "ExecuteTime": {
     "end_time": "2023-03-10T00:38:41.242652Z",
     "start_time": "2023-03-10T00:38:41.029748Z"
    },
    "hidden": true
   },
   "outputs": [
    {
     "data": {
      "text/html": [
       "<div>\n",
       "<style scoped>\n",
       "    .dataframe tbody tr th:only-of-type {\n",
       "        vertical-align: middle;\n",
       "    }\n",
       "\n",
       "    .dataframe tbody tr th {\n",
       "        vertical-align: top;\n",
       "    }\n",
       "\n",
       "    .dataframe thead th {\n",
       "        text-align: right;\n",
       "    }\n",
       "</style>\n",
       "<table border=\"1\" class=\"dataframe\">\n",
       "  <thead>\n",
       "    <tr style=\"text-align: right;\">\n",
       "      <th></th>\n",
       "      <th>converted</th>\n",
       "      <th>non-converted</th>\n",
       "    </tr>\n",
       "    <tr>\n",
       "      <th>group</th>\n",
       "      <th></th>\n",
       "      <th></th>\n",
       "    </tr>\n",
       "  </thead>\n",
       "  <tbody>\n",
       "    <tr>\n",
       "      <th>control</th>\n",
       "      <td>17489</td>\n",
       "      <td>127785</td>\n",
       "    </tr>\n",
       "    <tr>\n",
       "      <th>treatment</th>\n",
       "      <td>17264</td>\n",
       "      <td>128047</td>\n",
       "    </tr>\n",
       "  </tbody>\n",
       "</table>\n",
       "</div>"
      ],
      "text/plain": [
       "           converted  non-converted\n",
       "group                              \n",
       "control        17489         127785\n",
       "treatment      17264         128047"
      ]
     },
     "execution_count": 12,
     "metadata": {},
     "output_type": "execute_result"
    }
   ],
   "source": [
    "# Generating matrix for chi-squared test\n",
    "\n",
    "df_matrix = df[['group','converted','non-converted']].groupby(\"group\").sum()\n",
    "\n",
    "df_matrix"
   ]
  },
  {
   "cell_type": "code",
   "execution_count": 13,
   "id": "8e52267e",
   "metadata": {
    "ExecuteTime": {
     "end_time": "2023-03-10T00:38:45.075007Z",
     "start_time": "2023-03-10T00:38:45.060557Z"
    },
    "hidden": true
   },
   "outputs": [
    {
     "data": {
      "text/html": [
       "<div>\n",
       "<style scoped>\n",
       "    .dataframe tbody tr th:only-of-type {\n",
       "        vertical-align: middle;\n",
       "    }\n",
       "\n",
       "    .dataframe tbody tr th {\n",
       "        vertical-align: top;\n",
       "    }\n",
       "\n",
       "    .dataframe thead th {\n",
       "        text-align: right;\n",
       "    }\n",
       "</style>\n",
       "<table border=\"1\" class=\"dataframe\">\n",
       "  <thead>\n",
       "    <tr style=\"text-align: right;\">\n",
       "      <th></th>\n",
       "      <th>converted</th>\n",
       "      <th>non-converted</th>\n",
       "    </tr>\n",
       "  </thead>\n",
       "  <tbody>\n",
       "    <tr>\n",
       "      <th>control</th>\n",
       "      <td>17489</td>\n",
       "      <td>127785</td>\n",
       "    </tr>\n",
       "    <tr>\n",
       "      <th>treatment</th>\n",
       "      <td>17264</td>\n",
       "      <td>128047</td>\n",
       "    </tr>\n",
       "  </tbody>\n",
       "</table>\n",
       "</div>"
      ],
      "text/plain": [
       "           converted  non-converted\n",
       "control        17489         127785\n",
       "treatment      17264         128047"
      ]
     },
     "execution_count": 13,
     "metadata": {},
     "output_type": "execute_result"
    }
   ],
   "source": [
    "# Droping index name\n",
    "\n",
    "df_matrix.index.name = None\n",
    "\n",
    "df_matrix"
   ]
  },
  {
   "cell_type": "code",
   "execution_count": null,
   "id": "0e535c2e",
   "metadata": {
    "hidden": true
   },
   "outputs": [],
   "source": []
  },
  {
   "cell_type": "code",
   "execution_count": null,
   "id": "370a6469",
   "metadata": {
    "hidden": true
   },
   "outputs": [],
   "source": []
  },
  {
   "cell_type": "code",
   "execution_count": null,
   "id": "e8d1abbf",
   "metadata": {
    "hidden": true
   },
   "outputs": [],
   "source": []
  },
  {
   "cell_type": "code",
   "execution_count": null,
   "id": "ec5266cd",
   "metadata": {
    "hidden": true
   },
   "outputs": [],
   "source": []
  },
  {
   "cell_type": "code",
   "execution_count": null,
   "id": "07e13d69",
   "metadata": {
    "hidden": true
   },
   "outputs": [],
   "source": []
  },
  {
   "cell_type": "code",
   "execution_count": null,
   "id": "b0bf768c",
   "metadata": {
    "hidden": true
   },
   "outputs": [],
   "source": []
  },
  {
   "cell_type": "code",
   "execution_count": null,
   "id": "24c8511b",
   "metadata": {
    "hidden": true
   },
   "outputs": [],
   "source": []
  },
  {
   "cell_type": "code",
   "execution_count": null,
   "id": "3cda7368",
   "metadata": {
    "hidden": true
   },
   "outputs": [],
   "source": []
  },
  {
   "cell_type": "code",
   "execution_count": null,
   "id": "0e428331",
   "metadata": {
    "hidden": true
   },
   "outputs": [],
   "source": []
  },
  {
   "cell_type": "markdown",
   "id": "7b341ec0",
   "metadata": {
    "heading_collapsed": true,
    "hidden": true
   },
   "source": [
    "### Calculating sample size"
   ]
  },
  {
   "cell_type": "code",
   "execution_count": null,
   "id": "867f4751",
   "metadata": {
    "hidden": true
   },
   "outputs": [],
   "source": [
    "# Conversion rate of current page is 12%. It is expected 14% of conversion rate for Treatment page"
   ]
  },
  {
   "cell_type": "code",
   "execution_count": 27,
   "id": "3e54018f",
   "metadata": {
    "ExecuteTime": {
     "end_time": "2023-03-10T00:53:32.001764Z",
     "start_time": "2023-03-10T00:53:31.957791Z"
    },
    "hidden": true
   },
   "outputs": [
    {
     "name": "stdout",
     "output_type": "stream",
     "text": [
      "Minimum required sample number for each group: 4433 samples \n"
     ]
    }
   ],
   "source": [
    "# taxas de conversão\n",
    "actual_conversion_rate = 0.12\n",
    "expected_conversion_rate = 0.14\n",
    "\n",
    "\n",
    "# nivel de significancia\n",
    "alpha = 0.05\n",
    "\n",
    "# power\n",
    "power = 0.8\n",
    "\n",
    "# effect size (2 * (arcsin(sqrt(prop1)) - arcsin(sqrt(prop2))))\n",
    "effect_size = proportion_effectsize(actual_conversion_rate, expected_conversion_rate)\n",
    "\n",
    "# sample_number\n",
    "nobs1 = int(\n",
    "            np.ceil(\n",
    "                NormalIndPower().solve_power(effect_size = effect_size,\n",
    "                                             alpha = alpha,\n",
    "                                             power = power)))\n",
    "\n",
    "print(f'Minimum required sample number for each group: {nobs1} samples ')"
   ]
  },
  {
   "cell_type": "code",
   "execution_count": 26,
   "id": "c82c9051",
   "metadata": {
    "ExecuteTime": {
     "end_time": "2023-03-10T00:51:55.354877Z",
     "start_time": "2023-03-10T00:51:55.299180Z"
    },
    "hidden": true
   },
   "outputs": [
    {
     "data": {
      "text/plain": [
       "group    \n",
       "treatment    145311\n",
       "control      145274\n",
       "dtype: int64"
      ]
     },
     "execution_count": 26,
     "metadata": {},
     "output_type": "execute_result"
    }
   ],
   "source": [
    "# Available number of samples of each group\n",
    "\n",
    "df[['group']].value_counts()"
   ]
  },
  {
   "cell_type": "code",
   "execution_count": 59,
   "id": "9d5ed92c",
   "metadata": {
    "ExecuteTime": {
     "end_time": "2023-03-10T01:38:19.748033Z",
     "start_time": "2023-03-10T01:38:19.594729Z"
    },
    "hidden": true
   },
   "outputs": [],
   "source": [
    "# Sampling groups\n",
    "\n",
    "df_control_sampled = df[df['group']=='control'].sample(n=nobs1, random_state=32)\n",
    "\n",
    "df_treatment_sampled = df[df['group']=='treatment'].sample(n=nobs1, random_state=32)\n",
    "\n",
    "\n",
    "# Joining sampled groups\n",
    "\n",
    "df_sampled = pd.concat([df_control_sampled, df_treatment_sampled]).sort_values(by='timestamp')"
   ]
  },
  {
   "cell_type": "code",
   "execution_count": null,
   "id": "b3e1f1f2",
   "metadata": {
    "hidden": true
   },
   "outputs": [],
   "source": []
  },
  {
   "cell_type": "markdown",
   "id": "f7823687",
   "metadata": {
    "heading_collapsed": true,
    "hidden": true
   },
   "source": [
    "### Hypothesis test"
   ]
  },
  {
   "cell_type": "code",
   "execution_count": 90,
   "id": "e9cf5f23",
   "metadata": {
    "ExecuteTime": {
     "end_time": "2023-03-10T02:00:41.753697Z",
     "start_time": "2023-03-10T02:00:41.695288Z"
    },
    "hidden": true
   },
   "outputs": [
    {
     "data": {
      "text/html": [
       "<div>\n",
       "<style scoped>\n",
       "    .dataframe tbody tr th:only-of-type {\n",
       "        vertical-align: middle;\n",
       "    }\n",
       "\n",
       "    .dataframe tbody tr th {\n",
       "        vertical-align: top;\n",
       "    }\n",
       "\n",
       "    .dataframe thead th {\n",
       "        text-align: right;\n",
       "    }\n",
       "</style>\n",
       "<table border=\"1\" class=\"dataframe\">\n",
       "  <thead>\n",
       "    <tr style=\"text-align: right;\">\n",
       "      <th></th>\n",
       "      <th>non-converted</th>\n",
       "      <th>converted</th>\n",
       "    </tr>\n",
       "    <tr>\n",
       "      <th>Group:</th>\n",
       "      <th></th>\n",
       "      <th></th>\n",
       "    </tr>\n",
       "  </thead>\n",
       "  <tbody>\n",
       "    <tr>\n",
       "      <th>control</th>\n",
       "      <td>3909</td>\n",
       "      <td>524</td>\n",
       "    </tr>\n",
       "    <tr>\n",
       "      <th>treatment</th>\n",
       "      <td>3904</td>\n",
       "      <td>529</td>\n",
       "    </tr>\n",
       "  </tbody>\n",
       "</table>\n",
       "</div>"
      ],
      "text/plain": [
       "           non-converted  converted\n",
       "Group:                             \n",
       "control             3909        524\n",
       "treatment           3904        529"
      ]
     },
     "execution_count": 90,
     "metadata": {},
     "output_type": "execute_result"
    }
   ],
   "source": [
    "# Generating contingency table for chi-squared test\n",
    "\n",
    "df_matrix = pd.crosstab(df_sampled['group'], df_sampled['converted'], rownames=['Group:'])\n",
    "\n",
    "df_matrix.columns = ['non-converted','converted']\n",
    "\n",
    "df_matrix"
   ]
  },
  {
   "cell_type": "code",
   "execution_count": null,
   "id": "086aa256",
   "metadata": {
    "hidden": true
   },
   "outputs": [],
   "source": []
  },
  {
   "cell_type": "code",
   "execution_count": 64,
   "id": "343616e2",
   "metadata": {
    "ExecuteTime": {
     "end_time": "2023-03-10T01:47:39.784984Z",
     "start_time": "2023-03-10T01:47:39.727134Z"
    },
    "hidden": true
   },
   "outputs": [
    {
     "data": {
      "text/plain": [
       "Chi2ContingencyResult(statistic=0.0172425507977366, pvalue=0.8955293745034291, dof=1, expected_freq=array([[3906.5,  526.5],\n",
       "       [3906.5,  526.5]]))"
      ]
     },
     "execution_count": 64,
     "metadata": {},
     "output_type": "execute_result"
    }
   ],
   "source": [
    "chi2_contingency(pd.crosstab(df_sampled['group'], df_sampled['converted']))"
   ]
  },
  {
   "cell_type": "code",
   "execution_count": null,
   "id": "8ffd1a69",
   "metadata": {
    "hidden": true
   },
   "outputs": [],
   "source": []
  },
  {
   "cell_type": "code",
   "execution_count": null,
   "id": "0580976a",
   "metadata": {
    "hidden": true
   },
   "outputs": [],
   "source": []
  },
  {
   "cell_type": "markdown",
   "id": "7f6db535",
   "metadata": {
    "heading_collapsed": true,
    "hidden": true
   },
   "source": [
    "### Bayesian test"
   ]
  },
  {
   "cell_type": "code",
   "execution_count": 42,
   "id": "1bda481b",
   "metadata": {
    "ExecuteTime": {
     "end_time": "2023-03-10T15:58:54.082238Z",
     "start_time": "2023-03-10T15:58:54.032256Z"
    },
    "hidden": true
   },
   "outputs": [],
   "source": [
    "from bayesian_testing.experiments import BinaryDataTest"
   ]
  },
  {
   "cell_type": "code",
   "execution_count": 135,
   "id": "99f1d84f",
   "metadata": {
    "ExecuteTime": {
     "end_time": "2023-03-11T02:00:21.310648Z",
     "start_time": "2023-03-11T02:00:16.658674Z"
    },
    "hidden": true
   },
   "outputs": [],
   "source": [
    "# Reformatting timestamp datetime:\n",
    "\n",
    "df['timestamp'] = df['timestamp'].apply(lambda x: x.strftime(\"%Y-%m-%d\"))"
   ]
  },
  {
   "cell_type": "code",
   "execution_count": 136,
   "id": "621c24e9",
   "metadata": {
    "ExecuteTime": {
     "end_time": "2023-03-11T02:00:57.219611Z",
     "start_time": "2023-03-11T02:00:57.192150Z"
    },
    "hidden": true
   },
   "outputs": [
    {
     "data": {
      "text/html": [
       "<div>\n",
       "<style scoped>\n",
       "    .dataframe tbody tr th:only-of-type {\n",
       "        vertical-align: middle;\n",
       "    }\n",
       "\n",
       "    .dataframe tbody tr th {\n",
       "        vertical-align: top;\n",
       "    }\n",
       "\n",
       "    .dataframe thead th {\n",
       "        text-align: right;\n",
       "    }\n",
       "</style>\n",
       "<table border=\"1\" class=\"dataframe\">\n",
       "  <thead>\n",
       "    <tr style=\"text-align: right;\">\n",
       "      <th></th>\n",
       "      <th>user_id</th>\n",
       "      <th>timestamp</th>\n",
       "      <th>group</th>\n",
       "      <th>landing_page</th>\n",
       "      <th>converted</th>\n",
       "      <th>non-converted</th>\n",
       "    </tr>\n",
       "  </thead>\n",
       "  <tbody>\n",
       "    <tr>\n",
       "      <th>0</th>\n",
       "      <td>922696</td>\n",
       "      <td>2017-01-02</td>\n",
       "      <td>treatment</td>\n",
       "      <td>new_page</td>\n",
       "      <td>0</td>\n",
       "      <td>1</td>\n",
       "    </tr>\n",
       "    <tr>\n",
       "      <th>1</th>\n",
       "      <td>781507</td>\n",
       "      <td>2017-01-02</td>\n",
       "      <td>control</td>\n",
       "      <td>old_page</td>\n",
       "      <td>0</td>\n",
       "      <td>1</td>\n",
       "    </tr>\n",
       "    <tr>\n",
       "      <th>2</th>\n",
       "      <td>737319</td>\n",
       "      <td>2017-01-02</td>\n",
       "      <td>control</td>\n",
       "      <td>old_page</td>\n",
       "      <td>0</td>\n",
       "      <td>1</td>\n",
       "    </tr>\n",
       "    <tr>\n",
       "      <th>3</th>\n",
       "      <td>818377</td>\n",
       "      <td>2017-01-02</td>\n",
       "      <td>treatment</td>\n",
       "      <td>new_page</td>\n",
       "      <td>0</td>\n",
       "      <td>1</td>\n",
       "    </tr>\n",
       "    <tr>\n",
       "      <th>4</th>\n",
       "      <td>725857</td>\n",
       "      <td>2017-01-02</td>\n",
       "      <td>treatment</td>\n",
       "      <td>new_page</td>\n",
       "      <td>0</td>\n",
       "      <td>1</td>\n",
       "    </tr>\n",
       "    <tr>\n",
       "      <th>...</th>\n",
       "      <td>...</td>\n",
       "      <td>...</td>\n",
       "      <td>...</td>\n",
       "      <td>...</td>\n",
       "      <td>...</td>\n",
       "      <td>...</td>\n",
       "    </tr>\n",
       "    <tr>\n",
       "      <th>290580</th>\n",
       "      <td>799244</td>\n",
       "      <td>2017-01-24</td>\n",
       "      <td>treatment</td>\n",
       "      <td>new_page</td>\n",
       "      <td>0</td>\n",
       "      <td>1</td>\n",
       "    </tr>\n",
       "    <tr>\n",
       "      <th>290581</th>\n",
       "      <td>808330</td>\n",
       "      <td>2017-01-24</td>\n",
       "      <td>control</td>\n",
       "      <td>old_page</td>\n",
       "      <td>0</td>\n",
       "      <td>1</td>\n",
       "    </tr>\n",
       "    <tr>\n",
       "      <th>290582</th>\n",
       "      <td>843121</td>\n",
       "      <td>2017-01-24</td>\n",
       "      <td>treatment</td>\n",
       "      <td>new_page</td>\n",
       "      <td>0</td>\n",
       "      <td>1</td>\n",
       "    </tr>\n",
       "    <tr>\n",
       "      <th>290583</th>\n",
       "      <td>836373</td>\n",
       "      <td>2017-01-24</td>\n",
       "      <td>control</td>\n",
       "      <td>old_page</td>\n",
       "      <td>0</td>\n",
       "      <td>1</td>\n",
       "    </tr>\n",
       "    <tr>\n",
       "      <th>290584</th>\n",
       "      <td>920411</td>\n",
       "      <td>2017-01-24</td>\n",
       "      <td>control</td>\n",
       "      <td>old_page</td>\n",
       "      <td>0</td>\n",
       "      <td>1</td>\n",
       "    </tr>\n",
       "  </tbody>\n",
       "</table>\n",
       "<p>290585 rows × 6 columns</p>\n",
       "</div>"
      ],
      "text/plain": [
       "        user_id   timestamp      group landing_page  converted  non-converted\n",
       "0        922696  2017-01-02  treatment     new_page          0              1\n",
       "1        781507  2017-01-02    control     old_page          0              1\n",
       "2        737319  2017-01-02    control     old_page          0              1\n",
       "3        818377  2017-01-02  treatment     new_page          0              1\n",
       "4        725857  2017-01-02  treatment     new_page          0              1\n",
       "...         ...         ...        ...          ...        ...            ...\n",
       "290580   799244  2017-01-24  treatment     new_page          0              1\n",
       "290581   808330  2017-01-24    control     old_page          0              1\n",
       "290582   843121  2017-01-24  treatment     new_page          0              1\n",
       "290583   836373  2017-01-24    control     old_page          0              1\n",
       "290584   920411  2017-01-24    control     old_page          0              1\n",
       "\n",
       "[290585 rows x 6 columns]"
      ]
     },
     "execution_count": 136,
     "metadata": {},
     "output_type": "execute_result"
    }
   ],
   "source": [
    "df"
   ]
  },
  {
   "cell_type": "code",
   "execution_count": null,
   "id": "fe39a373",
   "metadata": {
    "hidden": true
   },
   "outputs": [],
   "source": []
  },
  {
   "cell_type": "code",
   "execution_count": 162,
   "id": "1827bb7b",
   "metadata": {
    "ExecuteTime": {
     "end_time": "2023-03-11T02:39:43.736017Z",
     "start_time": "2023-03-11T02:39:40.067267Z"
    },
    "hidden": true
   },
   "outputs": [],
   "source": [
    "# ========= Creating lists to store metrics ==============\n",
    "\n",
    "# Probability of being best\n",
    "prob_control_best = []\n",
    "prob_treatment_best = []\n",
    "\n",
    "# Expected loss\n",
    "expected_loss_control = []\n",
    "expected_loss_treatment = []\n",
    "\n",
    "# Zeros and ones list\n",
    "zeros_ones_control = []\n",
    "zeros_ones_treatment = []\n",
    "\n",
    "\n",
    "# ========== Starting iteration for Bayesian tests ====================\n",
    "\n",
    "\n",
    "for i in df['timestamp'].unique(): # Iterando em cada dia diferente\n",
    "        \n",
    "    # 1- Splitting groups for each day:\n",
    "    \n",
    "    # Control\n",
    "    data_control_group = df.loc[(df['group']=='control') & (df['timestamp']==i), 'converted'].to_list()\n",
    "    # Treatment\n",
    "    data_treatment_group = df.loc[(df['group']=='treatment') & (df['timestamp']==i), 'converted'].to_list()\n",
    "    \n",
    "    \n",
    "    # 2- Appending data to existing lists:\n",
    "    \n",
    "    # Control\n",
    "    zeros_ones_control.append(data_control_group)\n",
    "    # Treatment\n",
    "    zeros_ones_treatment.append(data_treatment_group)\n",
    "    \n",
    "    \n",
    "    # 3- Flatening lists:\n",
    "    \n",
    "    # Control\n",
    "    data_control_group = sum(zeros_ones_control, [])\n",
    "    # Treatment\n",
    "    data_treatment_group = sum(zeros_ones_treatment, [])\n",
    "    \n",
    "    \n",
    "    # 4- Initialize a test:\n",
    "    \n",
    "    test = BinaryDataTest()\n",
    "    \n",
    "    \n",
    "    # 5- Add variant using raw data\n",
    "    \n",
    "    test.add_variant_data(\"Control\", data_control_group)\n",
    "    test.add_variant_data(\"Treatment\", data_treatment_group)\n",
    "    \n",
    "    \n",
    "    # 6- Evaluate test:\n",
    "    \n",
    "    results = test.evaluate(seed=42)\n",
    "    \n",
    "    # 7- Adding results to lists:\n",
    "    \n",
    "    # A) Probability of being best ->\n",
    "    \n",
    "    # Control\n",
    "    prob_control_best.append(results[0]['prob_being_best'])\n",
    "    # Treatment\n",
    "    prob_treatment_best.append(results[1]['prob_being_best'])\n",
    "    \n",
    "    # B) # Expected loss ->\n",
    "    \n",
    "    # Control\n",
    "    expected_loss_control.append(results[0]['expected_loss'])\n",
    "    # Treatment\n",
    "    expected_loss_treatment.append(results[1]['expected_loss'])"
   ]
  },
  {
   "cell_type": "code",
   "execution_count": 173,
   "id": "a103de3f",
   "metadata": {
    "ExecuteTime": {
     "end_time": "2023-03-11T02:46:36.974933Z",
     "start_time": "2023-03-11T02:46:36.395993Z"
    },
    "hidden": true
   },
   "outputs": [
    {
     "name": "stdout",
     "output_type": "stream",
     "text": [
      "2023-03-10 23:46:36,489 - matplotlib.category - INFO - Using categorical units to plot a list of strings that are all parsable as floats or dates. If these strings should be plotted as numbers, cast to the appropriate data type before plotting.\n",
      "2023-03-10 23:46:36,503 - matplotlib.category - INFO - Using categorical units to plot a list of strings that are all parsable as floats or dates. If these strings should be plotted as numbers, cast to the appropriate data type before plotting.\n"
     ]
    },
    {
     "data": {
      "image/png": "[encoded data removed]",
      "text/plain": [
       "<Figure size 1500x500 with 1 Axes>"
      ]
     },
     "metadata": {},
     "output_type": "display_data"
    }
   ],
   "source": [
    "import seaborn as sns\n",
    "import matplotlib.pyplot as plt\n",
    "\n",
    "plt.figure(figsize=(15,5))\n",
    "sns.lineplot(y=prob_control_best, x=df['timestamp'].unique())\n",
    "plt.xticks(rotation=45);"
   ]
  },
  {
   "cell_type": "code",
   "execution_count": null,
   "id": "b752f4d9",
   "metadata": {
    "hidden": true
   },
   "outputs": [],
   "source": []
  },
  {
   "cell_type": "code",
   "execution_count": null,
   "id": "8e54d63f",
   "metadata": {
    "hidden": true
   },
   "outputs": [],
   "source": []
  },
  {
   "cell_type": "code",
   "execution_count": null,
   "id": "f4b6545e",
   "metadata": {
    "hidden": true
   },
   "outputs": [],
   "source": []
  },
  {
   "cell_type": "code",
   "execution_count": null,
   "id": "15527431",
   "metadata": {
    "hidden": true
   },
   "outputs": [],
   "source": []
  },
  {
   "cell_type": "code",
   "execution_count": null,
   "id": "f6c91e17",
   "metadata": {
    "hidden": true
   },
   "outputs": [],
   "source": []
  },
  {
   "cell_type": "code",
   "execution_count": null,
   "id": "e34a7a44",
   "metadata": {
    "hidden": true
   },
   "outputs": [],
   "source": []
  },
  {
   "cell_type": "code",
   "execution_count": null,
   "id": "1325cafe",
   "metadata": {
    "hidden": true
   },
   "outputs": [],
   "source": []
  },
  {
   "cell_type": "code",
   "execution_count": null,
   "id": "68893376",
   "metadata": {
    "hidden": true
   },
   "outputs": [],
   "source": []
  },
  {
   "cell_type": "code",
   "execution_count": null,
   "id": "6f5defdf",
   "metadata": {
    "hidden": true
   },
   "outputs": [],
   "source": []
  },
  {
   "cell_type": "code",
   "execution_count": null,
   "id": "f34f8458",
   "metadata": {
    "hidden": true
   },
   "outputs": [],
   "source": []
  },
  {
   "cell_type": "code",
   "execution_count": null,
   "id": "effceec1",
   "metadata": {
    "hidden": true
   },
   "outputs": [],
   "source": []
  },
  {
   "cell_type": "markdown",
   "id": "bd78cce6",
   "metadata": {
    "heading_collapsed": true
   },
   "source": [
    "## Rascunhos"
   ]
  },
  {
   "cell_type": "code",
   "execution_count": null,
   "id": "6a09b1da",
   "metadata": {
    "hidden": true
   },
   "outputs": [],
   "source": []
  },
  {
   "cell_type": "code",
   "execution_count": 53,
   "id": "9c6691b3",
   "metadata": {
    "ExecuteTime": {
     "end_time": "2023-01-13T01:34:58.340121Z",
     "start_time": "2023-01-13T01:34:58.309068Z"
    },
    "hidden": true
   },
   "outputs": [
    {
     "data": {
      "text/plain": [
       "spent    1880.504281\n",
       "Name: GRP A, dtype: float64"
      ]
     },
     "execution_count": 53,
     "metadata": {},
     "output_type": "execute_result"
    }
   ],
   "source": [
    "# Spent médio é de 1880\n",
    "\n",
    "df[['group','spent']].groupby('group').mean().iloc[0,:]\n",
    "\n",
    "# Dessa forma o objetivo da página B é aumentar o spent médio para 2000"
   ]
  },
  {
   "cell_type": "code",
   "execution_count": 58,
   "id": "d2d6995a",
   "metadata": {
    "ExecuteTime": {
     "end_time": "2023-01-13T01:44:37.675477Z",
     "start_time": "2023-01-13T01:44:37.666593Z"
    },
    "hidden": true
   },
   "outputs": [
    {
     "data": {
      "text/plain": [
       "86260040"
      ]
     },
     "execution_count": 58,
     "metadata": {},
     "output_type": "execute_result"
    }
   ],
   "source": [
    "# Spent médio atual 1880, faturamento:\n",
    "\n",
    "1880 * 45883"
   ]
  },
  {
   "cell_type": "code",
   "execution_count": 61,
   "id": "64981372",
   "metadata": {
    "ExecuteTime": {
     "end_time": "2023-01-13T01:47:12.984462Z",
     "start_time": "2023-01-13T01:47:12.976375Z"
    },
    "hidden": true
   },
   "outputs": [
    {
     "data": {
      "text/plain": [
       "91766000"
      ]
     },
     "execution_count": 61,
     "metadata": {},
     "output_type": "execute_result"
    }
   ],
   "source": [
    "# Spent médio desejado 2000, faturamento:\n",
    "\n",
    "2000 * 45883"
   ]
  },
  {
   "cell_type": "code",
   "execution_count": 62,
   "id": "28c2902b",
   "metadata": {
    "ExecuteTime": {
     "end_time": "2023-01-13T01:49:15.738134Z",
     "start_time": "2023-01-13T01:49:15.723254Z"
    },
    "hidden": true
   },
   "outputs": [
    {
     "data": {
      "text/plain": [
       "5505960"
      ]
     },
     "execution_count": 62,
     "metadata": {},
     "output_type": "execute_result"
    }
   ],
   "source": [
    "# Lift absoluto\n",
    "\n",
    "(2000 * 45883) - (1880 * 45883)"
   ]
  },
  {
   "cell_type": "code",
   "execution_count": null,
   "id": "18a39820",
   "metadata": {
    "hidden": true
   },
   "outputs": [],
   "source": []
  },
  {
   "cell_type": "code",
   "execution_count": 24,
   "id": "a5308f57",
   "metadata": {
    "ExecuteTime": {
     "end_time": "2023-03-08T23:48:58.319818Z",
     "start_time": "2023-03-08T23:48:58.219615Z"
    },
    "hidden": true
   },
   "outputs": [
    {
     "data": {
      "text/plain": [
       "converted        0.120386\n",
       "non-converted    0.879614\n",
       "dtype: float64"
      ]
     },
     "execution_count": 24,
     "metadata": {},
     "output_type": "execute_result"
    }
   ],
   "source": [
    "# Taxa de conversão grupo controle 12%\n",
    "\n",
    "df.loc[df['group']=='control', ['converted', 'non-converted']].mean()"
   ]
  },
  {
   "cell_type": "code",
   "execution_count": null,
   "id": "dc31c138",
   "metadata": {
    "hidden": true
   },
   "outputs": [],
   "source": []
  },
  {
   "cell_type": "code",
   "execution_count": 118,
   "id": "cbfa06a4",
   "metadata": {
    "ExecuteTime": {
     "end_time": "2023-03-11T01:49:46.839529Z",
     "start_time": "2023-03-11T01:49:46.741001Z"
    },
    "hidden": true
   },
   "outputs": [
    {
     "data": {
      "text/html": [
       "<div>\n",
       "<style scoped>\n",
       "    .dataframe tbody tr th:only-of-type {\n",
       "        vertical-align: middle;\n",
       "    }\n",
       "\n",
       "    .dataframe tbody tr th {\n",
       "        vertical-align: top;\n",
       "    }\n",
       "\n",
       "    .dataframe thead th {\n",
       "        text-align: right;\n",
       "    }\n",
       "</style>\n",
       "<table border=\"1\" class=\"dataframe\">\n",
       "  <thead>\n",
       "    <tr style=\"text-align: right;\">\n",
       "      <th></th>\n",
       "      <th>timestamp</th>\n",
       "      <th>group</th>\n",
       "      <th>converted</th>\n",
       "      <th>non-converted</th>\n",
       "    </tr>\n",
       "  </thead>\n",
       "  <tbody>\n",
       "    <tr>\n",
       "      <th>0</th>\n",
       "      <td>2017-01-02</td>\n",
       "      <td>control</td>\n",
       "      <td>359</td>\n",
       "      <td>2500</td>\n",
       "    </tr>\n",
       "    <tr>\n",
       "      <th>1</th>\n",
       "      <td>2017-01-02</td>\n",
       "      <td>treatment</td>\n",
       "      <td>342</td>\n",
       "      <td>2511</td>\n",
       "    </tr>\n",
       "    <tr>\n",
       "      <th>2</th>\n",
       "      <td>2017-01-03</td>\n",
       "      <td>control</td>\n",
       "      <td>750</td>\n",
       "      <td>5840</td>\n",
       "    </tr>\n",
       "    <tr>\n",
       "      <th>3</th>\n",
       "      <td>2017-01-03</td>\n",
       "      <td>treatment</td>\n",
       "      <td>753</td>\n",
       "      <td>5865</td>\n",
       "    </tr>\n",
       "    <tr>\n",
       "      <th>4</th>\n",
       "      <td>2017-01-04</td>\n",
       "      <td>control</td>\n",
       "      <td>802</td>\n",
       "      <td>5776</td>\n",
       "    </tr>\n",
       "  </tbody>\n",
       "</table>\n",
       "</div>"
      ],
      "text/plain": [
       "   timestamp      group  converted  non-converted\n",
       "0 2017-01-02    control        359           2500\n",
       "1 2017-01-02  treatment        342           2511\n",
       "2 2017-01-03    control        750           5840\n",
       "3 2017-01-03  treatment        753           5865\n",
       "4 2017-01-04    control        802           5776"
      ]
     },
     "execution_count": 118,
     "metadata": {},
     "output_type": "execute_result"
    }
   ],
   "source": [
    "# Grouping dataset by days of experiment and sum conversions and non-conversions\n",
    "\n",
    "df_dailly = df[['timestamp','group','converted','non-converted']].groupby([pd.Grouper(key='timestamp', freq='D'),'group']).sum().reset_index()\n",
    "\n",
    "df_dailly.head()"
   ]
  },
  {
   "cell_type": "code",
   "execution_count": 119,
   "id": "8f6860af",
   "metadata": {
    "ExecuteTime": {
     "end_time": "2023-03-11T01:50:15.268231Z",
     "start_time": "2023-03-11T01:50:15.235898Z"
    },
    "hidden": true
   },
   "outputs": [],
   "source": [
    "# Generating accumulated columns for conversions and non-conversions\n",
    "\n",
    "# Control -> converted\n",
    "df_dailly.loc[df_dailly['group']=='control', 'acc_converted'] = df_dailly.loc[df_dailly['group']=='control', 'converted'].cumsum()\n",
    "\n",
    "# Treatment -> converted\n",
    "df_dailly.loc[df_dailly['group']=='treatment', 'acc_converted'] = df_dailly.loc[df_dailly['group']=='treatment', 'converted'].cumsum()\n",
    "\n",
    "\n",
    "# Control -> non-converted\n",
    "df_dailly.loc[df_dailly['group']=='control', 'acc_non-converted'] = df_dailly.loc[df_dailly['group']=='control', 'non-converted'].cumsum()\n",
    "\n",
    "# Treatment -> non-converted\n",
    "df_dailly.loc[df_dailly['group']=='treatment', 'acc_non-converted'] = df_dailly.loc[df_dailly['group']=='treatment', 'non-converted'].cumsum()"
   ]
  },
  {
   "cell_type": "code",
   "execution_count": null,
   "id": "54b6251f",
   "metadata": {
    "hidden": true
   },
   "outputs": [],
   "source": []
  },
  {
   "cell_type": "code",
   "execution_count": null,
   "id": "32e7406d",
   "metadata": {
    "hidden": true
   },
   "outputs": [],
   "source": []
  },
  {
   "cell_type": "code",
   "execution_count": null,
   "id": "995a4eee",
   "metadata": {
    "hidden": true
   },
   "outputs": [],
   "source": []
  },
  {
   "cell_type": "code",
   "execution_count": null,
   "id": "45f99b1b",
   "metadata": {
    "hidden": true
   },
   "outputs": [],
   "source": [
    "# https://www.statsmodels.org/dev/generated/statsmodels.stats.power.tt_ind_solve_power.html#statsmodels.stats.power.tt_ind_solve_power\n",
    "\n",
    "# https://www.analyticsvidhya.com/blog/2021/05/how-to-transform-features-into-normal-gaussian-distribution/\n",
    "\n",
    "# https://machinelearningmastery.com/a-gentle-introduction-to-normality-tests-in-python/\n",
    "\n",
    "# https://www.statology.org/determine-equal-or-unequal-variance/\n",
    "\n",
    "# https://www.statsmodels.org/dev/generated/statsmodels.stats.proportion.proportion_effectsize.html\n",
    "\n",
    "# https://towardsdatascience.com/bayesian-a-b-testing-with-python-the-easy-guide-d638f89e0b8a\n",
    "\n",
    "# https://pypi.org/project/bayesian-testing/\n",
    "\n",
    "# https://www.geeksforgeeks.org/rotate-axis-tick-labels-in-seaborn-and-matplotlib/"
   ]
  }
 ],
 "metadata": {
  "kernelspec": {
   "display_name": "Python 3 (ipykernel)",
   "language": "python",
   "name": "python3"
  },
  "language_info": {
   "codemirror_mode": {
    "name": "ipython",
    "version": 3
   },
   "file_extension": ".py",
   "mimetype": "text/x-python",
   "name": "python",
   "nbconvert_exporter": "python",
   "pygments_lexer": "ipython3",
   "version": "3.8.0"
  }
 },
 "nbformat": 4,
 "nbformat_minor": 5
}
