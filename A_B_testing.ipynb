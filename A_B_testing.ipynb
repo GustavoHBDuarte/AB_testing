{
 "cells": [
  {
   "cell_type": "markdown",
   "id": "7bdd4dd7",
   "metadata": {
    "heading_collapsed": true
   },
   "source": [
    "## Library imports"
   ]
  },
  {
   "cell_type": "code",
   "execution_count": 36,
   "id": "dc44c448",
   "metadata": {
    "ExecuteTime": {
     "end_time": "2023-01-24T00:41:08.705724Z",
     "start_time": "2023-01-24T00:41:08.696715Z"
    },
    "hidden": true
   },
   "outputs": [],
   "source": [
    "import pandas as pd\n",
    "import numpy as np\n",
    "from statsmodels.stats.power import tt_ind_solve_power"
   ]
  },
  {
   "cell_type": "markdown",
   "id": "9cc624ee",
   "metadata": {
    "heading_collapsed": true
   },
   "source": [
    "## Data check"
   ]
  },
  {
   "cell_type": "code",
   "execution_count": 37,
   "id": "9580e300",
   "metadata": {
    "ExecuteTime": {
     "end_time": "2023-01-24T00:41:09.731961Z",
     "start_time": "2023-01-24T00:41:09.635375Z"
    },
    "hidden": true
   },
   "outputs": [
    {
     "data": {
      "text/html": [
       "<div>\n",
       "<style scoped>\n",
       "    .dataframe tbody tr th:only-of-type {\n",
       "        vertical-align: middle;\n",
       "    }\n",
       "\n",
       "    .dataframe tbody tr th {\n",
       "        vertical-align: top;\n",
       "    }\n",
       "\n",
       "    .dataframe thead th {\n",
       "        text-align: right;\n",
       "    }\n",
       "</style>\n",
       "<table border=\"1\" class=\"dataframe\">\n",
       "  <thead>\n",
       "    <tr style=\"text-align: right;\">\n",
       "      <th></th>\n",
       "      <th>uid</th>\n",
       "      <th>country</th>\n",
       "      <th>gender</th>\n",
       "      <th>spent</th>\n",
       "      <th>purchases</th>\n",
       "      <th>date</th>\n",
       "      <th>group</th>\n",
       "      <th>device</th>\n",
       "    </tr>\n",
       "  </thead>\n",
       "  <tbody>\n",
       "    <tr>\n",
       "      <th>0</th>\n",
       "      <td>11115722</td>\n",
       "      <td>MEX</td>\n",
       "      <td>F</td>\n",
       "      <td>1595</td>\n",
       "      <td>5</td>\n",
       "      <td>2016-03-08</td>\n",
       "      <td>GRP B</td>\n",
       "      <td>I</td>\n",
       "    </tr>\n",
       "    <tr>\n",
       "      <th>1</th>\n",
       "      <td>11122053</td>\n",
       "      <td>USA</td>\n",
       "      <td>M</td>\n",
       "      <td>498</td>\n",
       "      <td>2</td>\n",
       "      <td>2017-07-14</td>\n",
       "      <td>GRP B</td>\n",
       "      <td>I</td>\n",
       "    </tr>\n",
       "    <tr>\n",
       "      <th>2</th>\n",
       "      <td>11128688</td>\n",
       "      <td>USA</td>\n",
       "      <td>F</td>\n",
       "      <td>2394</td>\n",
       "      <td>6</td>\n",
       "      <td>2017-09-17</td>\n",
       "      <td>GRP A</td>\n",
       "      <td>I</td>\n",
       "    </tr>\n",
       "    <tr>\n",
       "      <th>3</th>\n",
       "      <td>11130578</td>\n",
       "      <td>USA</td>\n",
       "      <td>F</td>\n",
       "      <td>1197</td>\n",
       "      <td>3</td>\n",
       "      <td>2017-11-30</td>\n",
       "      <td>GRP A</td>\n",
       "      <td>I</td>\n",
       "    </tr>\n",
       "    <tr>\n",
       "      <th>4</th>\n",
       "      <td>11130759</td>\n",
       "      <td>ESP</td>\n",
       "      <td>M</td>\n",
       "      <td>1297</td>\n",
       "      <td>3</td>\n",
       "      <td>2018-01-10</td>\n",
       "      <td>GRP B</td>\n",
       "      <td>A</td>\n",
       "    </tr>\n",
       "    <tr>\n",
       "      <th>...</th>\n",
       "      <td>...</td>\n",
       "      <td>...</td>\n",
       "      <td>...</td>\n",
       "      <td>...</td>\n",
       "      <td>...</td>\n",
       "      <td>...</td>\n",
       "      <td>...</td>\n",
       "      <td>...</td>\n",
       "    </tr>\n",
       "    <tr>\n",
       "      <th>45878</th>\n",
       "      <td>99994149</td>\n",
       "      <td>DEU</td>\n",
       "      <td>F</td>\n",
       "      <td>1897</td>\n",
       "      <td>3</td>\n",
       "      <td>2017-02-05</td>\n",
       "      <td>GRP B</td>\n",
       "      <td>I</td>\n",
       "    </tr>\n",
       "    <tr>\n",
       "      <th>45879</th>\n",
       "      <td>99995092</td>\n",
       "      <td>USA</td>\n",
       "      <td>F</td>\n",
       "      <td>899</td>\n",
       "      <td>1</td>\n",
       "      <td>2017-08-18</td>\n",
       "      <td>GRP B</td>\n",
       "      <td>A</td>\n",
       "    </tr>\n",
       "    <tr>\n",
       "      <th>45880</th>\n",
       "      <td>99996986</td>\n",
       "      <td>BRA</td>\n",
       "      <td>M</td>\n",
       "      <td>2194</td>\n",
       "      <td>6</td>\n",
       "      <td>2014-12-06</td>\n",
       "      <td>GRP B</td>\n",
       "      <td>A</td>\n",
       "    </tr>\n",
       "    <tr>\n",
       "      <th>45881</th>\n",
       "      <td>99997035</td>\n",
       "      <td>USA</td>\n",
       "      <td>M</td>\n",
       "      <td>2196</td>\n",
       "      <td>4</td>\n",
       "      <td>2017-04-05</td>\n",
       "      <td>GRP A</td>\n",
       "      <td>I</td>\n",
       "    </tr>\n",
       "    <tr>\n",
       "      <th>45882</th>\n",
       "      <td>99999383</td>\n",
       "      <td>GBR</td>\n",
       "      <td>F</td>\n",
       "      <td>899</td>\n",
       "      <td>1</td>\n",
       "      <td>2017-09-04</td>\n",
       "      <td>GRP B</td>\n",
       "      <td>I</td>\n",
       "    </tr>\n",
       "  </tbody>\n",
       "</table>\n",
       "<p>45883 rows × 8 columns</p>\n",
       "</div>"
      ],
      "text/plain": [
       "            uid country gender  spent  purchases        date  group device\n",
       "0      11115722     MEX      F   1595          5  2016-03-08  GRP B      I\n",
       "1      11122053     USA      M    498          2  2017-07-14  GRP B      I\n",
       "2      11128688     USA      F   2394          6  2017-09-17  GRP A      I\n",
       "3      11130578     USA      F   1197          3  2017-11-30  GRP A      I\n",
       "4      11130759     ESP      M   1297          3  2018-01-10  GRP B      A\n",
       "...         ...     ...    ...    ...        ...         ...    ...    ...\n",
       "45878  99994149     DEU      F   1897          3  2017-02-05  GRP B      I\n",
       "45879  99995092     USA      F    899          1  2017-08-18  GRP B      A\n",
       "45880  99996986     BRA      M   2194          6  2014-12-06  GRP B      A\n",
       "45881  99997035     USA      M   2196          4  2017-04-05  GRP A      I\n",
       "45882  99999383     GBR      F    899          1  2017-09-04  GRP B      I\n",
       "\n",
       "[45883 rows x 8 columns]"
      ]
     },
     "execution_count": 37,
     "metadata": {},
     "output_type": "execute_result"
    }
   ],
   "source": [
    "# Loading data\n",
    "\n",
    "df = pd.read_csv('ab_testing.csv')\n",
    "\n",
    "df"
   ]
  },
  {
   "cell_type": "code",
   "execution_count": 38,
   "id": "0bbd9a83",
   "metadata": {
    "ExecuteTime": {
     "end_time": "2023-01-24T00:41:10.161196Z",
     "start_time": "2023-01-24T00:41:10.123678Z"
    },
    "hidden": true
   },
   "outputs": [
    {
     "data": {
      "text/plain": [
       "uid          0\n",
       "country      0\n",
       "gender       0\n",
       "spent        0\n",
       "purchases    0\n",
       "date         0\n",
       "group        0\n",
       "device       0\n",
       "dtype: int64"
      ]
     },
     "execution_count": 38,
     "metadata": {},
     "output_type": "execute_result"
    }
   ],
   "source": [
    "# Checking NA's\n",
    "\n",
    "df.isna().sum()"
   ]
  },
  {
   "cell_type": "code",
   "execution_count": 39,
   "id": "c21ec2bc",
   "metadata": {
    "ExecuteTime": {
     "end_time": "2023-01-24T00:41:10.590303Z",
     "start_time": "2023-01-24T00:41:10.574478Z"
    },
    "hidden": true
   },
   "outputs": [
    {
     "data": {
      "text/plain": [
       "uid           int64\n",
       "country      object\n",
       "gender       object\n",
       "spent         int64\n",
       "purchases     int64\n",
       "date         object\n",
       "group        object\n",
       "device       object\n",
       "dtype: object"
      ]
     },
     "execution_count": 39,
     "metadata": {},
     "output_type": "execute_result"
    }
   ],
   "source": [
    "# Checking data types\n",
    "\n",
    "df.dtypes"
   ]
  },
  {
   "cell_type": "code",
   "execution_count": 40,
   "id": "69ceaa15",
   "metadata": {
    "ExecuteTime": {
     "end_time": "2023-01-24T00:41:10.999648Z",
     "start_time": "2023-01-24T00:41:10.949940Z"
    },
    "hidden": true
   },
   "outputs": [
    {
     "data": {
      "text/plain": [
       "0"
      ]
     },
     "execution_count": 40,
     "metadata": {},
     "output_type": "execute_result"
    }
   ],
   "source": [
    "# Checking duplicated\n",
    "\n",
    "df.duplicated().sum()"
   ]
  },
  {
   "cell_type": "code",
   "execution_count": 41,
   "id": "3aad7876",
   "metadata": {
    "ExecuteTime": {
     "end_time": "2023-01-24T00:41:11.386453Z",
     "start_time": "2023-01-24T00:41:11.351807Z"
    },
    "hidden": true
   },
   "outputs": [],
   "source": [
    "# Seting 'date' column as datetime\n",
    "\n",
    "df['date'] = pd.to_datetime(df['date'])"
   ]
  },
  {
   "cell_type": "code",
   "execution_count": 42,
   "id": "bbf468fd",
   "metadata": {
    "ExecuteTime": {
     "end_time": "2023-01-24T00:41:11.693974Z",
     "start_time": "2023-01-24T00:41:11.655347Z"
    },
    "hidden": true
   },
   "outputs": [
    {
     "data": {
      "text/html": [
       "<div>\n",
       "<style scoped>\n",
       "    .dataframe tbody tr th:only-of-type {\n",
       "        vertical-align: middle;\n",
       "    }\n",
       "\n",
       "    .dataframe tbody tr th {\n",
       "        vertical-align: top;\n",
       "    }\n",
       "\n",
       "    .dataframe thead th {\n",
       "        text-align: right;\n",
       "    }\n",
       "</style>\n",
       "<table border=\"1\" class=\"dataframe\">\n",
       "  <thead>\n",
       "    <tr style=\"text-align: right;\">\n",
       "      <th></th>\n",
       "      <th>group</th>\n",
       "    </tr>\n",
       "    <tr>\n",
       "      <th>uid</th>\n",
       "      <th></th>\n",
       "    </tr>\n",
       "  </thead>\n",
       "  <tbody>\n",
       "    <tr>\n",
       "      <th>11115722</th>\n",
       "      <td>1</td>\n",
       "    </tr>\n",
       "    <tr>\n",
       "      <th>70051633</th>\n",
       "      <td>1</td>\n",
       "    </tr>\n",
       "    <tr>\n",
       "      <th>70013059</th>\n",
       "      <td>1</td>\n",
       "    </tr>\n",
       "    <tr>\n",
       "      <th>70014245</th>\n",
       "      <td>1</td>\n",
       "    </tr>\n",
       "    <tr>\n",
       "      <th>70016073</th>\n",
       "      <td>1</td>\n",
       "    </tr>\n",
       "    <tr>\n",
       "      <th>...</th>\n",
       "      <td>...</td>\n",
       "    </tr>\n",
       "    <tr>\n",
       "      <th>40783010</th>\n",
       "      <td>1</td>\n",
       "    </tr>\n",
       "    <tr>\n",
       "      <th>40783265</th>\n",
       "      <td>1</td>\n",
       "    </tr>\n",
       "    <tr>\n",
       "      <th>40783344</th>\n",
       "      <td>1</td>\n",
       "    </tr>\n",
       "    <tr>\n",
       "      <th>40784302</th>\n",
       "      <td>1</td>\n",
       "    </tr>\n",
       "    <tr>\n",
       "      <th>99999383</th>\n",
       "      <td>1</td>\n",
       "    </tr>\n",
       "  </tbody>\n",
       "</table>\n",
       "<p>45883 rows × 1 columns</p>\n",
       "</div>"
      ],
      "text/plain": [
       "          group\n",
       "uid            \n",
       "11115722      1\n",
       "70051633      1\n",
       "70013059      1\n",
       "70014245      1\n",
       "70016073      1\n",
       "...         ...\n",
       "40783010      1\n",
       "40783265      1\n",
       "40783344      1\n",
       "40784302      1\n",
       "99999383      1\n",
       "\n",
       "[45883 rows x 1 columns]"
      ]
     },
     "execution_count": 42,
     "metadata": {},
     "output_type": "execute_result"
    }
   ],
   "source": [
    "# Checking if the same user id does not belong to more than 1 group\n",
    "\n",
    "df[['uid','group']].groupby('uid').count().sort_values(by='group', ascending=False)"
   ]
  },
  {
   "cell_type": "code",
   "execution_count": 43,
   "id": "b4bb5b9a",
   "metadata": {
    "ExecuteTime": {
     "end_time": "2023-01-24T00:41:12.088821Z",
     "start_time": "2023-01-24T00:41:12.064632Z"
    },
    "hidden": true
   },
   "outputs": [
    {
     "name": "stdout",
     "output_type": "stream",
     "text": [
      "Gender\n",
      "M    23116\n",
      "F    22767\n",
      "Name: gender, dtype: int64\n",
      "M    0.503803\n",
      "F    0.496197\n",
      "Name: gender, dtype: float64\n"
     ]
    }
   ],
   "source": [
    "# Checking gender ================================================\n",
    "\n",
    "\n",
    "print('Gender')\n",
    "\n",
    "print(df['gender'].value_counts())\n",
    "\n",
    "print(df['gender'].value_counts(normalize=True))"
   ]
  },
  {
   "cell_type": "code",
   "execution_count": 44,
   "id": "aaef9cac",
   "metadata": {
    "ExecuteTime": {
     "end_time": "2023-01-24T00:41:12.570335Z",
     "start_time": "2023-01-24T00:41:12.519558Z"
    },
    "hidden": true
   },
   "outputs": [
    {
     "name": "stdout",
     "output_type": "stream",
     "text": [
      "Group A gender proportion:\n",
      "M    0.505802\n",
      "F    0.494198\n",
      "Name: gender, dtype: float64\n",
      "\n",
      "Group B gender proportion:\n",
      "M    0.501792\n",
      "F    0.498208\n",
      "Name: gender, dtype: float64\n"
     ]
    }
   ],
   "source": [
    "# Checking Gender proportion - Group A\n",
    "\n",
    "print('Group A gender proportion:')\n",
    "print(df.loc[df['group']=='GRP A','gender'].value_counts(normalize=True))\n",
    "\n",
    "# Checking Gender proportion - Group B\n",
    "\n",
    "print('\\nGroup B gender proportion:')\n",
    "print(df.loc[df['group']=='GRP B','gender'].value_counts(normalize=True))"
   ]
  },
  {
   "cell_type": "code",
   "execution_count": 45,
   "id": "9a3d85c4",
   "metadata": {
    "ExecuteTime": {
     "end_time": "2023-01-24T00:41:13.251043Z",
     "start_time": "2023-01-24T00:41:13.228712Z"
    },
    "hidden": true,
    "scrolled": true
   },
   "outputs": [
    {
     "name": "stdout",
     "output_type": "stream",
     "text": [
      "Country\n",
      "USA    13998\n",
      "BRA     9009\n",
      "MEX     5528\n",
      "DEU     3696\n",
      "TUR     3537\n",
      "FRA     2842\n",
      "GBR     2809\n",
      "ESP     1934\n",
      "CAN     1513\n",
      "AUS     1017\n",
      "Name: country, dtype: int64\n",
      "USA    0.305080\n",
      "BRA    0.196347\n",
      "MEX    0.120480\n",
      "DEU    0.080553\n",
      "TUR    0.077087\n",
      "FRA    0.061940\n",
      "GBR    0.061221\n",
      "ESP    0.042151\n",
      "CAN    0.032975\n",
      "AUS    0.022165\n",
      "Name: country, dtype: float64\n"
     ]
    }
   ],
   "source": [
    "# Checking country ================================================\n",
    "\n",
    "print('Country')\n",
    "\n",
    "print(df['country'].value_counts())\n",
    "\n",
    "print(df['country'].value_counts(normalize=True))"
   ]
  },
  {
   "cell_type": "code",
   "execution_count": 46,
   "id": "5ac6a0d6",
   "metadata": {
    "ExecuteTime": {
     "end_time": "2023-01-24T00:41:14.675973Z",
     "start_time": "2023-01-24T00:41:14.617456Z"
    },
    "hidden": true
   },
   "outputs": [
    {
     "name": "stdout",
     "output_type": "stream",
     "text": [
      "Group A country proportion:\n",
      "USA    0.301056\n",
      "BRA    0.196358\n",
      "MEX    0.125429\n",
      "DEU    0.082142\n",
      "TUR    0.078013\n",
      "FRA    0.062280\n",
      "GBR    0.060237\n",
      "ESP    0.042157\n",
      "CAN    0.030336\n",
      "AUS    0.021991\n",
      "Name: country, dtype: float64\n",
      "\n",
      "Group B country proportion:\n",
      "USA    0.309128\n",
      "BRA    0.196336\n",
      "MEX    0.115502\n",
      "DEU    0.078954\n",
      "TUR    0.076156\n",
      "GBR    0.062210\n",
      "FRA    0.061598\n",
      "ESP    0.042144\n",
      "CAN    0.035630\n",
      "AUS    0.022340\n",
      "Name: country, dtype: float64\n"
     ]
    }
   ],
   "source": [
    "# Checking Country proportion - Group A\n",
    "\n",
    "print('Group A country proportion:')\n",
    "print(df.loc[df['group']=='GRP A','country'].value_counts(normalize=True))\n",
    "\n",
    "\n",
    "# Checking Country proportion - Group B\n",
    "\n",
    "print('\\nGroup B country proportion:')\n",
    "print(df.loc[df['group']=='GRP B','country'].value_counts(normalize=True))"
   ]
  },
  {
   "cell_type": "markdown",
   "id": "5f0e7ab4",
   "metadata": {
    "heading_collapsed": true
   },
   "source": [
    "## Calculating sample size"
   ]
  },
  {
   "cell_type": "code",
   "execution_count": 47,
   "id": "6e614630",
   "metadata": {
    "ExecuteTime": {
     "end_time": "2023-01-24T00:41:16.906528Z",
     "start_time": "2023-01-24T00:41:16.836093Z"
    },
    "hidden": true
   },
   "outputs": [
    {
     "name": "stderr",
     "output_type": "stream",
     "text": [
      "/home/gustavo/.pyenv/versions/3.8.0/envs/AB_testing/lib/python3.8/site-packages/scipy/stats/_continuous_distns.py:6832: RuntimeWarning: invalid value encountered in _nct_sf\n",
      "  return np.clip(_boost._nct_sf(x, df, nc), 0, 1)\n",
      "/home/gustavo/.pyenv/versions/3.8.0/envs/AB_testing/lib/python3.8/site-packages/scipy/stats/_continuous_distns.py:6826: RuntimeWarning: invalid value encountered in _nct_cdf\n",
      "  return np.clip(_boost._nct_cdf(x, df, nc), 0, 1)\n"
     ]
    }
   ],
   "source": [
    "# nivel de significancia\n",
    "alpha = 0.05\n",
    "\n",
    "# power\n",
    "power = 0.8\n",
    "\n",
    "# spent\n",
    "lift = 1.063\n",
    "actual_mean_spent = 1880\n",
    "expected_mean_spent = actual_mean_spent*lift \n",
    "\n",
    "# effect size\n",
    "effect_size = (expected_mean_spent - actual_mean_spent) / df.loc[df['group']=='GRP A', 'spent'].std()\n",
    "\n",
    "\n",
    "# sample_number\n",
    "nobs1 = tt_ind_solve_power(effect_size = effect_size, alpha = alpha, power = power)"
   ]
  },
  {
   "cell_type": "code",
   "execution_count": null,
   "id": "4017c236",
   "metadata": {
    "hidden": true
   },
   "outputs": [],
   "source": []
  },
  {
   "cell_type": "code",
   "execution_count": 83,
   "id": "2c249885",
   "metadata": {
    "ExecuteTime": {
     "end_time": "2023-01-24T01:16:26.021941Z",
     "start_time": "2023-01-24T01:16:25.404659Z"
    },
    "hidden": true
   },
   "outputs": [
    {
     "name": "stderr",
     "output_type": "stream",
     "text": [
      "/home/gustavo/.pyenv/versions/3.8.0/envs/AB_testing/lib/python3.8/site-packages/scipy/stats/_continuous_distns.py:6832: RuntimeWarning: invalid value encountered in _nct_sf\n",
      "  return np.clip(_boost._nct_sf(x, df, nc), 0, 1)\n",
      "/home/gustavo/.pyenv/versions/3.8.0/envs/AB_testing/lib/python3.8/site-packages/scipy/stats/_continuous_distns.py:6826: RuntimeWarning: invalid value encountered in _nct_cdf\n",
      "  return np.clip(_boost._nct_cdf(x, df, nc), 0, 1)\n"
     ]
    },
    {
     "data": {
      "text/html": [
       "<div>\n",
       "<style scoped>\n",
       "    .dataframe tbody tr th:only-of-type {\n",
       "        vertical-align: middle;\n",
       "    }\n",
       "\n",
       "    .dataframe tbody tr th {\n",
       "        vertical-align: top;\n",
       "    }\n",
       "\n",
       "    .dataframe thead th {\n",
       "        text-align: right;\n",
       "    }\n",
       "</style>\n",
       "<table border=\"1\" class=\"dataframe\">\n",
       "  <thead>\n",
       "    <tr style=\"text-align: right;\">\n",
       "      <th></th>\n",
       "      <th>Country</th>\n",
       "      <th>Minimum sample number</th>\n",
       "      <th>GRP A required</th>\n",
       "      <th>GRP B required</th>\n",
       "      <th>GRP A available</th>\n",
       "      <th>GRP B available</th>\n",
       "      <th>Actual spent</th>\n",
       "      <th>Expected lift</th>\n",
       "      <th>Test possible?</th>\n",
       "    </tr>\n",
       "  </thead>\n",
       "  <tbody>\n",
       "    <tr>\n",
       "      <th>0</th>\n",
       "      <td>MEX</td>\n",
       "      <td>2047</td>\n",
       "      <td>2047</td>\n",
       "      <td>2047</td>\n",
       "      <td>2886</td>\n",
       "      <td>2886</td>\n",
       "      <td>1902.705821</td>\n",
       "      <td>2022.576288</td>\n",
       "      <td>Yes</td>\n",
       "    </tr>\n",
       "    <tr>\n",
       "      <th>1</th>\n",
       "      <td>USA</td>\n",
       "      <td>2078</td>\n",
       "      <td>2078</td>\n",
       "      <td>2078</td>\n",
       "      <td>6927</td>\n",
       "      <td>6927</td>\n",
       "      <td>1888.376065</td>\n",
       "      <td>2007.343757</td>\n",
       "      <td>Yes</td>\n",
       "    </tr>\n",
       "    <tr>\n",
       "      <th>2</th>\n",
       "      <td>ESP</td>\n",
       "      <td>2302</td>\n",
       "      <td>2302</td>\n",
       "      <td>2302</td>\n",
       "      <td>970</td>\n",
       "      <td>970</td>\n",
       "      <td>1794.191753</td>\n",
       "      <td>1907.225833</td>\n",
       "      <td>No</td>\n",
       "    </tr>\n",
       "    <tr>\n",
       "      <th>3</th>\n",
       "      <td>GBR</td>\n",
       "      <td>2236</td>\n",
       "      <td>2236</td>\n",
       "      <td>2236</td>\n",
       "      <td>1386</td>\n",
       "      <td>1386</td>\n",
       "      <td>1820.470418</td>\n",
       "      <td>1935.160055</td>\n",
       "      <td>No</td>\n",
       "    </tr>\n",
       "    <tr>\n",
       "      <th>4</th>\n",
       "      <td>TUR</td>\n",
       "      <td>2070</td>\n",
       "      <td>2070</td>\n",
       "      <td>2070</td>\n",
       "      <td>1795</td>\n",
       "      <td>1795</td>\n",
       "      <td>1892.353203</td>\n",
       "      <td>2011.571455</td>\n",
       "      <td>No</td>\n",
       "    </tr>\n",
       "    <tr>\n",
       "      <th>5</th>\n",
       "      <td>DEU</td>\n",
       "      <td>2212</td>\n",
       "      <td>2212</td>\n",
       "      <td>2212</td>\n",
       "      <td>1890</td>\n",
       "      <td>1890</td>\n",
       "      <td>1830.453439</td>\n",
       "      <td>1945.772006</td>\n",
       "      <td>No</td>\n",
       "    </tr>\n",
       "    <tr>\n",
       "      <th>6</th>\n",
       "      <td>BRA</td>\n",
       "      <td>2053</td>\n",
       "      <td>2053</td>\n",
       "      <td>2053</td>\n",
       "      <td>4518</td>\n",
       "      <td>4518</td>\n",
       "      <td>1899.792165</td>\n",
       "      <td>2019.479071</td>\n",
       "      <td>Yes</td>\n",
       "    </tr>\n",
       "    <tr>\n",
       "      <th>7</th>\n",
       "      <td>FRA</td>\n",
       "      <td>2054</td>\n",
       "      <td>2054</td>\n",
       "      <td>2054</td>\n",
       "      <td>1433</td>\n",
       "      <td>1433</td>\n",
       "      <td>1899.752268</td>\n",
       "      <td>2019.436661</td>\n",
       "      <td>No</td>\n",
       "    </tr>\n",
       "    <tr>\n",
       "      <th>8</th>\n",
       "      <td>AUS</td>\n",
       "      <td>1930</td>\n",
       "      <td>1930</td>\n",
       "      <td>1930</td>\n",
       "      <td>506</td>\n",
       "      <td>506</td>\n",
       "      <td>1959.517787</td>\n",
       "      <td>2082.967407</td>\n",
       "      <td>No</td>\n",
       "    </tr>\n",
       "    <tr>\n",
       "      <th>9</th>\n",
       "      <td>CAN</td>\n",
       "      <td>2205</td>\n",
       "      <td>2205</td>\n",
       "      <td>2205</td>\n",
       "      <td>698</td>\n",
       "      <td>698</td>\n",
       "      <td>1833.154728</td>\n",
       "      <td>1948.643476</td>\n",
       "      <td>No</td>\n",
       "    </tr>\n",
       "  </tbody>\n",
       "</table>\n",
       "</div>"
      ],
      "text/plain": [
       "  Country  Minimum sample number  GRP A required  GRP B required  \\\n",
       "0     MEX                   2047            2047            2047   \n",
       "1     USA                   2078            2078            2078   \n",
       "2     ESP                   2302            2302            2302   \n",
       "3     GBR                   2236            2236            2236   \n",
       "4     TUR                   2070            2070            2070   \n",
       "5     DEU                   2212            2212            2212   \n",
       "6     BRA                   2053            2053            2053   \n",
       "7     FRA                   2054            2054            2054   \n",
       "8     AUS                   1930            1930            1930   \n",
       "9     CAN                   2205            2205            2205   \n",
       "\n",
       "   GRP A available  GRP B available  Actual spent  Expected lift  \\\n",
       "0             2886             2886   1902.705821    2022.576288   \n",
       "1             6927             6927   1888.376065    2007.343757   \n",
       "2              970              970   1794.191753    1907.225833   \n",
       "3             1386             1386   1820.470418    1935.160055   \n",
       "4             1795             1795   1892.353203    2011.571455   \n",
       "5             1890             1890   1830.453439    1945.772006   \n",
       "6             4518             4518   1899.792165    2019.479071   \n",
       "7             1433             1433   1899.752268    2019.436661   \n",
       "8              506              506   1959.517787    2082.967407   \n",
       "9              698              698   1833.154728    1948.643476   \n",
       "\n",
       "  Test possible?  \n",
       "0            Yes  \n",
       "1            Yes  \n",
       "2             No  \n",
       "3             No  \n",
       "4             No  \n",
       "5             No  \n",
       "6            Yes  \n",
       "7             No  \n",
       "8             No  \n",
       "9             No  "
      ]
     },
     "execution_count": 83,
     "metadata": {},
     "output_type": "execute_result"
    }
   ],
   "source": [
    "# nivel de significancia\n",
    "alpha = 0.05\n",
    "\n",
    "# power\n",
    "power = 0.8\n",
    "\n",
    "lift = 1.063\n",
    "\n",
    "country_list = list(df['country'].unique())\n",
    "\n",
    "df_aux = pd.DataFrame({'Country':np.nan,\n",
    "                       'Minimum sample number':np.nan,\n",
    "                       'GRP A required':np.nan,\n",
    "                       'GRP B required':np.nan,\n",
    "                       'GRP A available':np.nan,\n",
    "                       'GRP B available':np.nan,\n",
    "                       'Actual spent': np.nan,\n",
    "                       'Expected lift': np.nan,\n",
    "                       'Test possible?': np.nan}, index=[i for i in range(len(df['country'].unique()))])\n",
    "\n",
    "#df_aux['Country'] = country_list\n",
    "\n",
    "\n",
    "for i, it in zip(country_list, df_aux.index):\n",
    "    \n",
    "    actual_mean_spent = df.loc[(df['country']==i) & (df['group']=='GRP A'), 'spent'].mean()\n",
    "    \n",
    "    expected_mean_spent = actual_mean_spent*lift\n",
    "    \n",
    "    \n",
    "    # effect size\n",
    "    effect_size = (expected_mean_spent - actual_mean_spent) / df.loc[df['group']=='GRP A', 'spent'].std()\n",
    "    \n",
    "    # sample_number\n",
    "    nobs1 = tt_ind_solve_power(effect_size = effect_size, alpha = alpha, power = power)\n",
    "    \n",
    "    # preenchendo o df\n",
    "    df_aux.loc[it, 'Country'] = i\n",
    "    \n",
    "    df_aux.loc[it, 'Minimum sample number'] = nobs1\n",
    "    \n",
    "    df_aux.loc[it, 'GRP A required'] = nobs1\n",
    "    \n",
    "    df_aux.loc[it, 'GRP B required'] = nobs1\n",
    "    \n",
    "    df_aux.loc[it, 'GRP A available'] = ((df['group']=='GRP A') & (df['country']==i)).sum()\n",
    "    \n",
    "    df_aux.loc[it, 'GRP B available'] = ((df['group']=='GRP A') & (df['country']==i)).sum()\n",
    "    \n",
    "    df_aux.loc[it, 'Actual spent'] = actual_mean_spent\n",
    "    \n",
    "    df_aux.loc[it, 'Expected lift'] = expected_mean_spent\n",
    "    \n",
    "    df_aux.loc[it, 'Test possible?'] = ['No' if df_aux.loc[it,'GRP B available'] < df_aux.loc[it,'GRP A required'] else 'Yes'][0]\n",
    "    \n",
    "    \n",
    "df_aux[['Minimum sample number',\n",
    "        'GRP A required',\n",
    "        'GRP B required',\n",
    "        'GRP A available',\n",
    "        'GRP B available']] = np.ceil(df_aux[['Minimum sample number',\n",
    "                                              'GRP A required',\n",
    "                                              'GRP B required',\n",
    "                                              'GRP A available',\n",
    "                                              'GRP B available']]).astype('int')\n",
    "\n",
    "df_aux"
   ]
  },
  {
   "cell_type": "code",
   "execution_count": null,
   "id": "4ff93390",
   "metadata": {
    "hidden": true
   },
   "outputs": [],
   "source": []
  },
  {
   "cell_type": "code",
   "execution_count": null,
   "id": "2c575f73",
   "metadata": {
    "hidden": true
   },
   "outputs": [],
   "source": []
  },
  {
   "cell_type": "code",
   "execution_count": null,
   "id": "91718a23",
   "metadata": {
    "hidden": true
   },
   "outputs": [],
   "source": []
  },
  {
   "cell_type": "code",
   "execution_count": null,
   "id": "4d2cdbc1",
   "metadata": {
    "hidden": true
   },
   "outputs": [],
   "source": []
  },
  {
   "cell_type": "code",
   "execution_count": null,
   "id": "d79aa6ce",
   "metadata": {
    "hidden": true
   },
   "outputs": [],
   "source": []
  },
  {
   "cell_type": "code",
   "execution_count": null,
   "id": "f95cdd2b",
   "metadata": {
    "hidden": true
   },
   "outputs": [],
   "source": []
  },
  {
   "cell_type": "code",
   "execution_count": null,
   "id": "0580976a",
   "metadata": {
    "hidden": true
   },
   "outputs": [],
   "source": []
  },
  {
   "cell_type": "markdown",
   "id": "bd78cce6",
   "metadata": {
    "heading_collapsed": true
   },
   "source": [
    "## Rascunhos"
   ]
  },
  {
   "cell_type": "code",
   "execution_count": null,
   "id": "6a09b1da",
   "metadata": {
    "hidden": true
   },
   "outputs": [],
   "source": []
  },
  {
   "cell_type": "code",
   "execution_count": 53,
   "id": "9c6691b3",
   "metadata": {
    "ExecuteTime": {
     "end_time": "2023-01-13T01:34:58.340121Z",
     "start_time": "2023-01-13T01:34:58.309068Z"
    },
    "hidden": true
   },
   "outputs": [
    {
     "data": {
      "text/plain": [
       "spent    1880.504281\n",
       "Name: GRP A, dtype: float64"
      ]
     },
     "execution_count": 53,
     "metadata": {},
     "output_type": "execute_result"
    }
   ],
   "source": [
    "# Spent médio é de 1880\n",
    "\n",
    "df[['group','spent']].groupby('group').mean().iloc[0,:]\n",
    "\n",
    "# Dessa forma o objetivo da página B é aumentar o spent médio para 2000"
   ]
  },
  {
   "cell_type": "code",
   "execution_count": 58,
   "id": "d2d6995a",
   "metadata": {
    "ExecuteTime": {
     "end_time": "2023-01-13T01:44:37.675477Z",
     "start_time": "2023-01-13T01:44:37.666593Z"
    },
    "hidden": true
   },
   "outputs": [
    {
     "data": {
      "text/plain": [
       "86260040"
      ]
     },
     "execution_count": 58,
     "metadata": {},
     "output_type": "execute_result"
    }
   ],
   "source": [
    "# Spent médio atual 1880, faturamento:\n",
    "\n",
    "1880 * 45883"
   ]
  },
  {
   "cell_type": "code",
   "execution_count": 61,
   "id": "64981372",
   "metadata": {
    "ExecuteTime": {
     "end_time": "2023-01-13T01:47:12.984462Z",
     "start_time": "2023-01-13T01:47:12.976375Z"
    },
    "hidden": true
   },
   "outputs": [
    {
     "data": {
      "text/plain": [
       "91766000"
      ]
     },
     "execution_count": 61,
     "metadata": {},
     "output_type": "execute_result"
    }
   ],
   "source": [
    "# Spent médio desejado 2000, faturamento:\n",
    "\n",
    "2000 * 45883"
   ]
  },
  {
   "cell_type": "code",
   "execution_count": 62,
   "id": "28c2902b",
   "metadata": {
    "ExecuteTime": {
     "end_time": "2023-01-13T01:49:15.738134Z",
     "start_time": "2023-01-13T01:49:15.723254Z"
    },
    "hidden": true
   },
   "outputs": [
    {
     "data": {
      "text/plain": [
       "5505960"
      ]
     },
     "execution_count": 62,
     "metadata": {},
     "output_type": "execute_result"
    }
   ],
   "source": [
    "# Lift absoluto\n",
    "\n",
    "(2000 * 45883) - (1880 * 45883)"
   ]
  },
  {
   "cell_type": "code",
   "execution_count": null,
   "id": "995a4eee",
   "metadata": {
    "hidden": true
   },
   "outputs": [],
   "source": []
  },
  {
   "cell_type": "code",
   "execution_count": null,
   "id": "45f99b1b",
   "metadata": {
    "hidden": true
   },
   "outputs": [],
   "source": [
    "# https://www.statsmodels.org/dev/generated/statsmodels.stats.power.tt_ind_solve_power.html#statsmodels.stats.power.tt_ind_solve_power"
   ]
  }
 ],
 "metadata": {
  "kernelspec": {
   "display_name": "Python 3 (ipykernel)",
   "language": "python",
   "name": "python3"
  },
  "language_info": {
   "codemirror_mode": {
    "name": "ipython",
    "version": 3
   },
   "file_extension": ".py",
   "mimetype": "text/x-python",
   "name": "python",
   "nbconvert_exporter": "python",
   "pygments_lexer": "ipython3",
   "version": "3.8.0"
  }
 },
 "nbformat": 4,
 "nbformat_minor": 5
}
